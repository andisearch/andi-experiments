{
 "cells": [
  {
   "cell_type": "markdown",
   "metadata": {},
   "source": [
    "# Seach API Experiments"
   ]
  },
  {
   "cell_type": "markdown",
   "metadata": {},
   "source": [
    "## DDG API\n",
    "\n",
    "https://github.com/ivankliuk/duckduckpy\n",
    "\n",
    "Current library\n",
    "\n",
    "To install:\n",
    "\n",
    "    pip install duckduckpy\n",
    "\n",
    "API is not full search results, just Instant Answers and some of their summaries.\n",
    "\n",
    "To get actual search results there is a non-JS version that is straightforward to scrape:\n",
    "\n",
    "https://stackoverflow.com/questions/37012469/duckduckgo-api-getting-search-results\n",
    "\n"
   ]
  },
  {
   "cell_type": "code",
   "execution_count": null,
   "metadata": {},
   "outputs": [],
   "source": [
    "from duckduckpy import query"
   ]
  },
  {
   "cell_type": "code",
   "execution_count": null,
   "metadata": {},
   "outputs": [],
   "source": [
    "response = query('!a shoes', container='dict', skip_disambig=True)"
   ]
  },
  {
   "cell_type": "code",
   "execution_count": null,
   "metadata": {},
   "outputs": [],
   "source": [
    "response"
   ]
  },
  {
   "cell_type": "code",
   "execution_count": null,
   "metadata": {},
   "outputs": [],
   "source": [
    "response['related_topics'][0]"
   ]
  },
  {
   "cell_type": "markdown",
   "metadata": {},
   "source": [
    "# Contextual Web\n",
    "\n",
    "Information:\n",
    "\n",
    "https://rapidapi.com/contextualwebsearch/api/web-search\n",
    "\n",
    "Documentation: \n",
    "\n",
    "https://rapidapi.com/contextualwebsearch/api/web-search/details\n"
   ]
  },
  {
   "cell_type": "code",
   "execution_count": null,
   "metadata": {},
   "outputs": [],
   "source": [
    "# Autosuggest\n",
    "\n",
    "import requests\n",
    "\n",
    "url = \"https://contextualwebsearch-websearch-v1.p.rapidapi.com/api/spelling/AutoComplete\"\n",
    "\n",
    "querystring = {\"text\":\"apple\"}\n",
    "\n",
    "headers = {\n",
    "    'x-rapidapi-host': \"contextualwebsearch-websearch-v1.p.rapidapi.com\",\n",
    "    'x-rapidapi-key': \"****\"\n",
    "    }\n",
    "\n",
    "response = requests.request(\"GET\", url, headers=headers, params=querystring)\n",
    "\n",
    "print(response.text)"
   ]
  },
  {
   "cell_type": "code",
   "execution_count": null,
   "metadata": {},
   "outputs": [],
   "source": [
    "# Web Search\n",
    "\n",
    "import requests\n",
    "\n",
    "url = \"https://contextualwebsearch-websearch-v1.p.rapidapi.com/api/Search/WebSearchAPI\"\n",
    "\n",
    "querystring = {\"autoCorrect\":\"true\",\"pageNumber\":\"1\",\"pageSize\":\"10\",\"q\":\"What's the average temperature in Bora Bora?\",\"safeSearch\":\"false\"}\n",
    "\n",
    "headers = {\n",
    "    'x-rapidapi-host': \"contextualwebsearch-websearch-v1.p.rapidapi.com\",\n",
    "    'x-rapidapi-key': \"****\"\n",
    "    }\n",
    "\n",
    "response = requests.request(\"GET\", url, headers=headers, params=querystring)\n",
    "\n",
    "print(response.text)"
   ]
  },
  {
   "cell_type": "code",
   "execution_count": null,
   "metadata": {},
   "outputs": [],
   "source": [
    "# News Search\n",
    "\n",
    "import requests\n",
    "\n",
    "url = \"https://contextualwebsearch-websearch-v1.p.rapidapi.com/api/Search/NewsSearchAPI\"\n",
    "\n",
    "querystring = {\"autoCorrect\":\"false\",\"pageNumber\":\"1\",\"pageSize\":\"10\",\"q\":\"Taylor Swift\",\"safeSearch\":\"false\"}\n",
    "\n",
    "headers = {\n",
    "    'x-rapidapi-host': \"contextualwebsearch-websearch-v1.p.rapidapi.com\",\n",
    "    'x-rapidapi-key': \"****\"\n",
    "    }\n",
    "\n",
    "response = requests.request(\"GET\", url, headers=headers, params=querystring)\n",
    "\n",
    "print(response.text)"
   ]
  },
  {
   "cell_type": "code",
   "execution_count": null,
   "metadata": {},
   "outputs": [],
   "source": [
    "# Image Search\n",
    "\n",
    "import requests\n",
    "\n",
    "url = \"https://contextualwebsearch-websearch-v1.p.rapidapi.com/api/Search/ImageSearchAPI\"\n",
    "\n",
    "querystring = {\"autoCorrect\":\"false\",\"pageNumber\":\"1\",\"pageSize\":\"10\",\"q\":\"Taylor Swift\",\"safeSearch\":\"false\"}\n",
    "\n",
    "headers = {\n",
    "    'x-rapidapi-host': \"contextualwebsearch-websearch-v1.p.rapidapi.com\",\n",
    "    'x-rapidapi-key': \"****\"\n",
    "    }\n",
    "\n",
    "response = requests.request(\"GET\", url, headers=headers, params=querystring)\n",
    "\n",
    "print(response.text)"
   ]
  },
  {
   "cell_type": "markdown",
   "metadata": {},
   "source": [
    "# Brainshop API"
   ]
  },
  {
   "cell_type": "code",
   "execution_count": null,
   "metadata": {},
   "outputs": [],
   "source": [
    "import requests\n",
    "\n",
    "url = \"https://acobot-brainshop-ai-v1.p.rapidapi.com/get\"\n",
    "\n",
    "querystring = {\"bid\":\"178\",\"key\":\"****\",\"uid\":\"mashape\",\"msg\":\"what can you do?\"}\n",
    "\n",
    "headers = {\n",
    "    'x-rapidapi-host': \"acobot-brainshop-ai-v1.p.rapidapi.com\",\n",
    "    'x-rapidapi-key': \"****\"\n",
    "    }\n",
    "\n",
    "response = requests.request(\"GET\", url, headers=headers, params=querystring)\n",
    "\n",
    "print(response.text)"
   ]
  },
  {
   "cell_type": "markdown",
   "metadata": {},
   "source": [
    "# Qwant API"
   ]
  },
  {
   "cell_type": "code",
   "execution_count": null,
   "metadata": {},
   "outputs": [],
   "source": [
    "# Examples from docs using library\n",
    "\n",
    "import qwant\n",
    "\n",
    "qwant.search(\"Barbie doll\", session={'https': 'https://proxy.lazyweb.ai/' }) \n",
    "\n"
   ]
  },
  {
   "cell_type": "code",
   "execution_count": null,
   "metadata": {},
   "outputs": [],
   "source": [
    "#get only items of search. 10 by default\n",
    "qwant.items(\"Barbie doll\")\n",
    "\n",
    "#but you can get more. It's done with multiple requests\n",
    "qwant.items(\"Barbie doll\",count=100)\n",
    "\n",
    "#you can set web site of search\n",
    "qwant.items(\"site:allegro.pl/oferta/ Barbie doll\")\n",
    "\n",
    "#add your proxy\n",
    "#session={<define your session here>}\n",
    "#qwant.items(\"site:allegro.pl/oferta/ Barbie doll\",session=session)\n",
    "\n",
    "#you can use luminati so EVERY request would be done from different IP\n",
    "#import luminati\n",
    "#session = luminati.session(\"<login>\", \"<password>\")\n",
    "#qwant.items(\"site:allegro.pl/oferta/ Illuminati doll\",session=session)"
   ]
  },
  {
   "cell_type": "code",
   "execution_count": null,
   "metadata": {},
   "outputs": [],
   "source": [
    "qwant.items(\"Barbie doll\", locale=\"en_US\")"
   ]
  },
  {
   "cell_type": "code",
   "execution_count": null,
   "metadata": {},
   "outputs": [],
   "source": [
    "qwant.items(\"Barbie doll\",market=\"en-US\")"
   ]
  },
  {
   "cell_type": "code",
   "execution_count": null,
   "metadata": {},
   "outputs": [],
   "source": []
  }
 ],
 "metadata": {
  "kernelspec": {
   "display_name": "Python 3",
   "language": "python",
   "name": "python3"
  },
  "language_info": {
   "codemirror_mode": {
    "name": "ipython",
    "version": 3
   },
   "file_extension": ".py",
   "mimetype": "text/x-python",
   "name": "python",
   "nbconvert_exporter": "python",
   "pygments_lexer": "ipython3",
   "version": "3.7.9"
  }
 },
 "nbformat": 4,
 "nbformat_minor": 4
}
