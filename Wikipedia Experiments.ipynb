{
 "cells": [
  {
   "cell_type": "code",
   "execution_count": 1,
   "metadata": {},
   "outputs": [],
   "source": [
    "import wikipedia"
   ]
  },
  {
   "cell_type": "code",
   "execution_count": 2,
   "metadata": {},
   "outputs": [],
   "source": [
    "page = wikipedia.page('John Lennon')"
   ]
  },
  {
   "cell_type": "code",
   "execution_count": 4,
   "metadata": {},
   "outputs": [],
   "source": [
    "page = wikipedia.WikipediaPage('Succubus')"
   ]
  },
  {
   "cell_type": "code",
   "execution_count": 3,
   "metadata": {},
   "outputs": [
    {
     "data": {
      "text/plain": [
       "'John Lennon'"
      ]
     },
     "execution_count": 3,
     "metadata": {},
     "output_type": "execute_result"
    }
   ],
   "source": [
    "page.title"
   ]
  },
  {
   "cell_type": "code",
   "execution_count": 4,
   "metadata": {},
   "outputs": [
    {
     "data": {
      "text/plain": [
       "['Succubus',\n",
       " 'List of succubi in fiction',\n",
       " 'Succubus (disambiguation)',\n",
       " 'Succubus (film)',\n",
       " 'The Succubus (short story)',\n",
       " 'Cambion',\n",
       " 'Incubus',\n",
       " 'The Succubus (South Park)',\n",
       " 'Mark of the Succubus',\n",
       " 'Vampire: The Masquerade']"
      ]
     },
     "execution_count": 4,
     "metadata": {},
     "output_type": "execute_result"
    }
   ],
   "source": [
    "wikipedia.search('')"
   ]
  },
  {
   "cell_type": "code",
   "execution_count": 4,
   "metadata": {},
   "outputs": [
    {
     "data": {
      "text/plain": [
       "'John Winston Ono Lennon  (born John Winston Lennon, 9 October 1940 – 8 December 1980) was an English singer, songwriter and peace activist who gained worldwide fame as the founder, co-lead vocalist, and rhythm guitarist of the Beatles. His songwriting partnership with Paul McCartney remains the most successful in musical history. In 1969, he started the Plastic Ono Band with his second wife, Yoko Ono. After the Beatles disbanded in 1970, Lennon continued a career as a solo artist and as Ono\\'s collaborator.\\nBorn in Liverpool, Lennon became involved in the skiffle craze as a teenager. In 1956, he formed his first band, the Quarrymen, which evolved into the Beatles in 1960. He was initially the group\\'s de facto leader, a role gradually held together with McCartney during their later years. Lennon was characterised for the rebellious nature and acerbic wit in his music, writing, drawings, on film and in interviews.  In the mid-1960s, he had two books published: In His Own Write and A Spaniard in the Works, both collections of nonsense writings and line drawings. Starting with 1967\\'s \"All You Need Is Love\", his songs were adopted as anthems by the anti-war movement and the larger counterculture.\\nFrom 1968 to 1972, Lennon produced more than a dozen records with Ono, including a trilogy of avant-garde albums, his first solo LP John Lennon/Plastic Ono Band, and the international top 10 singles  \"Give Peace a Chance\", \"Instant Karma!\", \"Imagine\" and \"Happy Xmas (War Is Over)\". In 1969, he held the two week-long anti-war demonstration Bed-Ins for Peace. After moving to New York City in 1971, his criticism of the Vietnam War resulted in a three-year attempt by the Nixon administration to deport him. In 1975, Lennon disengaged from the music business to raise his infant son Sean and, in 1980, returned with the Ono collaboration Double Fantasy. He was shot and killed in the archway of his Manhattan apartment building by a Beatles fan, Mark David Chapman, three weeks after the album\\'s release.\\nAs a performer, writer or co-writer, Lennon had 25 number one singles in the Billboard Hot 100 chart. Double Fantasy, his best-selling album, won the 1981 Grammy Award for Album of the Year. In 1982, Lennon was honoured with the Brit Award for Outstanding Contribution to Music. In 2002, Lennon was voted eighth in a BBC poll of the 100 Greatest Britons. Rolling Stone ranked him the fifth-greatest singer and thirty-eighth greatest artist of all time. He was inducted into the Songwriters Hall of Fame (in 1997) and the Rock and Roll Hall of Fame (twice, as a member of the Beatles in 1988 and as a solo artist in 1994).'"
      ]
     },
     "execution_count": 4,
     "metadata": {},
     "output_type": "execute_result"
    }
   ],
   "source": [
    "page.summary"
   ]
  },
  {
   "cell_type": "code",
   "execution_count": 12,
   "metadata": {},
   "outputs": [
    {
     "name": "stdout",
     "output_type": "stream",
     "text": [
      "https://upload.wikimedia.org/wikipedia/commons/8/89/John_Lennon%27s_Les_Paul_Jr..jpg\n"
     ]
    }
   ],
   "source": [
    "image_extensions = ['jpg', 'png', 'jpeg']\n",
    "for wp_image in page.images:\n",
    "    if 'John_Lennon' in wp_image and (any(image_type in wp_image for image_type in image_extensions)):\n",
    "        print(wp_image)\n",
    "        break\n"
   ]
  },
  {
   "cell_type": "code",
   "execution_count": 9,
   "metadata": {},
   "outputs": [
    {
     "data": {
      "text/plain": [
       "['https://upload.wikimedia.org/wikipedia/commons/b/b2/Aankomst_Brian_Epstein_%28manager_Beatles%29_op_Schiphol_%28Grand_Gala_du_Disque_1965%29%2C_Bestanddeelnr_918-2516_ShiftN.jpg',\n",
       " 'https://upload.wikimedia.org/wikipedia/commons/2/2b/Audio_a.svg',\n",
       " 'https://upload.wikimedia.org/wikipedia/commons/8/8c/Blank_television_set.svg',\n",
       " 'https://upload.wikimedia.org/wikipedia/commons/b/b0/Cynthia_Lennon_2010.jpg',\n",
       " 'https://upload.wikimedia.org/wikipedia/commons/5/51/Firma_de_John_Lennon.svg',\n",
       " 'https://upload.wikimedia.org/wikipedia/commons/c/cb/Gnome-mime-audio-openclipart.svg',\n",
       " 'https://upload.wikimedia.org/wikipedia/commons/3/34/Guitar_%281867%29_-_The_Noun_Project.svg',\n",
       " 'https://upload.wikimedia.org/wikipedia/commons/8/89/John_Lennon%27s_Les_Paul_Jr..jpg',\n",
       " 'https://upload.wikimedia.org/wikipedia/commons/9/97/John_Lennon_%28cropped%29.jpg',\n",
       " 'https://upload.wikimedia.org/wikipedia/commons/8/85/John_Lennon_1969_%28cropped%29.jpg',\n",
       " 'https://upload.wikimedia.org/wikipedia/commons/7/7c/John_Lennon_Imagine_1971.jpg',\n",
       " 'https://upload.wikimedia.org/wikipedia/commons/8/81/John_Lennon_en_echtgenote_Yoko_Ono_vertrekken_van_Schiphol_naar_Wenen_in_de_vert%2C_Bestanddeelnr_922-2496_%28cropped%29.jpg',\n",
       " 'https://upload.wikimedia.org/wikipedia/commons/c/cb/John_Lennon_last_television_interview_Tomorrow_show_1975.JPG',\n",
       " 'https://upload.wikimedia.org/wikipedia/commons/a/a0/John_Lennon_passport_photo_%28cropped%29.jpg',\n",
       " 'https://upload.wikimedia.org/wikipedia/commons/2/24/John_Lennon_performing_Give_Peace_a_Chance_1969.jpg',\n",
       " 'https://upload.wikimedia.org/wikipedia/commons/c/c5/Julian_Lennon.jpg',\n",
       " 'https://upload.wikimedia.org/wikipedia/commons/b/b1/Lennon%27s_Green_Card.jpg',\n",
       " 'https://upload.wikimedia.org/wikipedia/commons/e/ee/Lennon_FBI_Files_after_ny19p1.jpg',\n",
       " 'https://upload.wikimedia.org/wikipedia/commons/8/80/Lennon_Statue%2C_Liverpool.jpg',\n",
       " 'https://upload.wikimedia.org/wikipedia/commons/d/d2/Lennons_by_Jack_Mitchell.jpg',\n",
       " 'https://upload.wikimedia.org/wikipedia/commons/5/50/Los_Angeles_%28California%2C_USA%29%2C_Hollywood_Boulevard%2C_John_Lennon_--_2012_--_4990.jpg',\n",
       " 'https://upload.wikimedia.org/wikipedia/commons/3/33/May_Pang_2002.jpg',\n",
       " 'https://upload.wikimedia.org/wikipedia/commons/0/0d/Mendipsnationaltrust.JPG',\n",
       " 'https://upload.wikimedia.org/wikipedia/commons/0/04/Paul%2C_George_%26_John.png',\n",
       " 'https://upload.wikimedia.org/wikipedia/commons/f/f6/Phoenix-Musical_Intrument_Museum-John_Lennon_exhibit.jpg',\n",
       " 'https://upload.wikimedia.org/wikipedia/commons/8/8f/Sean_Lennon.jpg',\n",
       " 'https://upload.wikimedia.org/wikipedia/commons/4/4b/Strawberry_Fields_in_the_Central_Park_with_The_Dakota_behind.jpg',\n",
       " 'https://upload.wikimedia.org/wikipedia/commons/8/89/Symbol_book_class2.svg',\n",
       " 'https://upload.wikimedia.org/wikipedia/commons/1/1d/The_Beatles_i_H%C3%B6torgscity_1963.jpg',\n",
       " 'https://upload.wikimedia.org/wikipedia/commons/c/c4/The_Beatles_in_America.JPG',\n",
       " 'https://upload.wikimedia.org/wikipedia/commons/8/87/The_Beatles_magical_mystery_tour_%28cropped%29.jpg',\n",
       " 'https://upload.wikimedia.org/wikipedia/commons/f/fa/Wikibooks-logo.svg',\n",
       " 'https://upload.wikimedia.org/wikipedia/commons/2/24/Wikinews-logo.svg',\n",
       " 'https://upload.wikimedia.org/wikipedia/commons/f/fa/Wikiquote-logo.svg',\n",
       " 'https://upload.wikimedia.org/wikipedia/commons/4/4c/Wikisource-logo.svg',\n",
       " 'https://upload.wikimedia.org/wikipedia/commons/1/1b/Wikiversity-logo-en.svg',\n",
       " 'https://upload.wikimedia.org/wikipedia/commons/1/1b/Wikiversity-logo-en.svg',\n",
       " 'https://upload.wikimedia.org/wikipedia/commons/7/73/Yoko_Ono_and_John_Lennon_at_John_Sinclair_Freedom_Rally.jpg',\n",
       " 'https://upload.wikimedia.org/wikipedia/en/4/4a/Commons-logo.svg',\n",
       " 'https://upload.wikimedia.org/wikipedia/en/e/e7/Cscr-featured.svg',\n",
       " 'https://upload.wikimedia.org/wikipedia/en/4/48/Folder_Hexagonal_Icon.svg',\n",
       " 'https://upload.wikimedia.org/wikipedia/en/f/f6/Give_Peace_a_Chance.ogg',\n",
       " 'https://upload.wikimedia.org/wikipedia/en/9/95/Imagine_%28John_Lennon_song_-_sample%29.ogg',\n",
       " 'https://upload.wikimedia.org/wikipedia/en/9/95/Imagine_%28John_Lennon_song_-_sample%29.ogg',\n",
       " 'https://upload.wikimedia.org/wikipedia/en/7/78/Lennon_and_Chapman.jpg',\n",
       " 'https://upload.wikimedia.org/wikipedia/en/8/8a/OOjs_UI_icon_edit-ltr-progressive.svg',\n",
       " 'https://upload.wikimedia.org/wikipedia/en/6/69/P_vip.svg',\n",
       " 'https://upload.wikimedia.org/wikipedia/en/1/1b/Semi-protection-shackle.svg',\n",
       " 'https://upload.wikimedia.org/wikipedia/en/e/e7/Video-x-generic.svg']"
      ]
     },
     "execution_count": 9,
     "metadata": {},
     "output_type": "execute_result"
    }
   ],
   "source": [
    "page.images"
   ]
  },
  {
   "cell_type": "code",
   "execution_count": null,
   "metadata": {},
   "outputs": [],
   "source": []
  }
 ],
 "metadata": {
  "kernelspec": {
   "display_name": "Python 3",
   "language": "python",
   "name": "python3"
  },
  "language_info": {
   "codemirror_mode": {
    "name": "ipython",
    "version": 3
   },
   "file_extension": ".py",
   "mimetype": "text/x-python",
   "name": "python",
   "nbconvert_exporter": "python",
   "pygments_lexer": "ipython3",
   "version": "3.7.9"
  }
 },
 "nbformat": 4,
 "nbformat_minor": 4
}
