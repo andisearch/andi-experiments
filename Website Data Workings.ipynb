{
 "cells": [
  {
   "cell_type": "markdown",
   "metadata": {},
   "source": [
    "# Top 1 million websites\n",
    "\n",
    "Alexa Top 1m Site as a file (may be old):\n",
    "\n",
    "http://s3.amazonaws.com/alexa-static/top-1m.csv.zip\n",
    "\n",
    "Magic Million - Top Million Sites Update Daily\n",
    "\n",
    "https://blog.majestic.com/development/majestic-million-csv-daily/\n"
   ]
  },
  {
   "cell_type": "code",
   "execution_count": null,
   "metadata": {},
   "outputs": [],
   "source": [
    "import pandas as pd\n",
    "magic_top1m_df = pd.read_csv('/Datasets/Top1m/top1m-websites-2020-09-majestic_million.csv')"
   ]
  },
  {
   "cell_type": "code",
   "execution_count": null,
   "metadata": {},
   "outputs": [],
   "source": [
    "magic_top1m_df"
   ]
  },
  {
   "cell_type": "code",
   "execution_count": null,
   "metadata": {},
   "outputs": [],
   "source": [
    "alexa_top1m_df = pd.read_csv('/Datasets/Top1m/amazon-s3-alexa-top-1m.csv')"
   ]
  },
  {
   "cell_type": "code",
   "execution_count": null,
   "metadata": {},
   "outputs": [],
   "source": [
    "alexa_top1m_df"
   ]
  },
  {
   "cell_type": "markdown",
   "metadata": {},
   "source": [
    "# Alexa Web Information Service\n",
    "\n",
    "API Key: ** Key to use **\n",
    "\n",
    "Developer Portal: https://awis.alexa.com/\n",
    "\n",
    "Example JSON request:\n",
    "\n",
    "https://awis.api.alexa.com/api?Action=UrlInfo&Count=10&ResponseGroup=Rank,RankByCountry,AdultContent,Language,LinksInCount,SiteData&Start=1&Url=cnn.com&Output=json\n",
    "\n",
    "With x-api-key header\n"
   ]
  },
  {
   "cell_type": "code",
   "execution_count": 2,
   "metadata": {},
   "outputs": [],
   "source": [
    "# Python API request\n",
    "import json\n",
    "import requests\n",
    "import tldextract\n",
    "import urllib\n",
    "import socket\n",
    "from bs4 import BeautifulSoup\n",
    "\n",
    "def get_awis_website(url):\n",
    "    \n",
    "    api_key = '****'\n",
    "    api_url_base = 'https://awis.api.alexa.com/api?Action=UrlInfo&Start=1&Count=10&Output=json'\n",
    "    \n",
    "    response_group = 'Rank,RankByCountry,AdultContent,Language,LinksInCount,SiteData'\n",
    "    headers = {'x-api-key':api_key}\n",
    "\n",
    "    api_url = api_url_base + '&ResponseGroup=' + response_group + '&Url=' + url\n",
    "    response = requests.get(api_url, headers=headers)\n",
    "    if response.status_code == 200:\n",
    "        return json.loads(response.content.decode('utf-8'))\n",
    "    else:\n",
    "        return None\n",
    "    \n",
    "def get_awis_batch_websites(url_list):\n",
    "    # Up to 5 allowed in one call\n",
    "    \n",
    "    api_key = '****'\n",
    "    api_url_base = 'https://awis.api.alexa.com/api?Action=UrlInfo&Output=json'\n",
    "    \n",
    "    response_group = 'Rank,RankByCountry,AdultContent,Language,LinksInCount,SiteData'\n",
    "    headers = {'x-api-key':api_key}\n",
    "    \n",
    "    url_list_parameter = ''\n",
    "    for idx, url in enumerate(url_list):\n",
    "        url_list_parameter += '&UrlInfo.'+str(idx + 1)+'.Url='+url\n",
    "\n",
    "    api_url = api_url_base + '&UrlInfo.Shared.ResponseGroup=' + response_group + url_list_parameter\n",
    "    response = requests.get(api_url, headers=headers)\n",
    "    if response.status_code == 200:\n",
    "        return json.loads(response.content.decode('utf-8'))\n",
    "    else:\n",
    "        return None\n",
    "\n",
    "def hostname_resolves(hostname):\n",
    "    try:\n",
    "        socket.gethostbyname(hostname)\n",
    "        return 1\n",
    "    except socket.error:\n",
    "        return 0\n",
    "\n",
    "def get_website_data(url):\n",
    "    USER_AGENT = \"Mozilla/5.0 (Linux; Android 7.0; SM-G930V Build/NRD90M) AppleWebKit/537.36 (KHTML, like Gecko) Chrome/59.0.3071.125 Mobile Safari/537.36\"\n",
    "    headers = {\"user-agent\" : USER_AGENT}\n",
    "    resp = requests.get('http://' + url, headers=headers)\n",
    "    soup = BeautifulSoup(resp.content, \"html.parser\")\n",
    "    print(soup.title)\n",
    "    website_data = {\n",
    "        'title': soup.title.string.strip('\\n'),\n",
    "        'description': soup.description.string.strip('\\n'),\n",
    "        'keywords': soup.keywords.string.strip('\\n'),\n",
    "        'image': '',\n",
    "        'favicon': ''\n",
    "    }\n",
    "    return { 'title': soup.title.string.strip('\\n'), 'description': soup.description.string.strip('\\n') }\n",
    "    \n",
    "    "
   ]
  },
  {
   "cell_type": "code",
   "execution_count": 260,
   "metadata": {},
   "outputs": [
    {
     "name": "stdout",
     "output_type": "stream",
     "text": [
      "CNN - Breaking News, Latest News and Videos\n",
      "None\n"
     ]
    }
   ],
   "source": [
    "url = 'cnn.com'\n",
    "USER_AGENT = \"Mozilla/5.0 (Linux; Android 7.0; SM-G930V Build/NRD90M) AppleWebKit/537.36 (KHTML, like Gecko) Chrome/59.0.3071.125 Mobile Safari/537.36\"\n",
    "headers = {\"user-agent\" : USER_AGENT}\n",
    "resp = requests.get('http://' + url, headers=headers)\n",
    "soup = BeautifulSoup(resp.content, \"html.parser\")\n",
    "print(soup.title.string)\n",
    "print(soup.title.description)"
   ]
  },
  {
   "cell_type": "code",
   "execution_count": null,
   "metadata": {},
   "outputs": [],
   "source": [
    "description = soup.find(\"meta\",  property=\"og:description\")\n",
    "\n",
    "print(description[\"content\"] if description else \"No meta description given\")\n",
    "soup.find('meta',attrs={'name':'keywords'})['content']\n",
    "soup.find('meta',attrs={'name':'description'})['content']\n",
    "soup.find(\"meta\",  property=\"og:description\")['content']"
   ]
  },
  {
   "cell_type": "code",
   "execution_count": 264,
   "metadata": {},
   "outputs": [
    {
     "data": {
      "text/plain": [
       "<meta content=\"View the latest news and breaking news today for U.S., world, weather, entertainment, politics and health at CNN.com.\" property=\"og:description\"/>"
      ]
     },
     "execution_count": 264,
     "metadata": {},
     "output_type": "execute_result"
    }
   ],
   "source": [
    "description = soup.find(\"meta\",  property=\"og:description\")\n",
    "description"
   ]
  },
  {
   "cell_type": "code",
   "execution_count": 255,
   "metadata": {},
   "outputs": [
    {
     "data": {
      "text/plain": [
       "<meta content=\"website\" property=\"og:type\"/>"
      ]
     },
     "execution_count": 255,
     "metadata": {},
     "output_type": "execute_result"
    }
   ],
   "source": [
    "soup.find(\"meta\",  property=\"og:type\")"
   ]
  },
  {
   "cell_type": "code",
   "execution_count": null,
   "metadata": {},
   "outputs": [],
   "source": [
    "# Single lookup\n",
    "url_to_get = 'cnn.com'\n",
    "awis_details_single = get_awis_website(url_to_get)['Awis']['Results']['Result']['Alexa']\n",
    "awis_details_single"
   ]
  },
  {
   "cell_type": "code",
   "execution_count": null,
   "metadata": {},
   "outputs": [],
   "source": [
    "# Batch results\n",
    "results_list = get_awis_batch_websites(['cnn.com','yahoo.com','instagram.com'])['Awis']['Results']['Result']"
   ]
  },
  {
   "cell_type": "markdown",
   "metadata": {},
   "source": [
    "Items to get from direct lookup:\n",
    "\n",
    "* image\n",
    "* favicon\n",
    "* title\n",
    "* description\n",
    "* keywords\n",
    "\n",
    "og:tags are here: https://developers.facebook.com/docs/sharing/webmasters/\n"
   ]
  },
  {
   "cell_type": "code",
   "execution_count": 257,
   "metadata": {},
   "outputs": [
    {
     "name": "stdout",
     "output_type": "stream",
     "text": [
      "<title>David Yurman | Designer Jewelry &amp; Watches for Women and Men </title>\n"
     ]
    },
    {
     "data": {
      "text/plain": [
       "'David Yurman | Designer Jewelry & Watches for Women and Men '"
      ]
     },
     "execution_count": 257,
     "metadata": {},
     "output_type": "execute_result"
    }
   ],
   "source": [
    "get_website_title('davidyurman.com/')"
   ]
  },
  {
   "cell_type": "code",
   "execution_count": 256,
   "metadata": {},
   "outputs": [
    {
     "name": "stdout",
     "output_type": "stream",
     "text": [
      "cnn.com\n",
      "yahoo.com\n",
      "instagram.com\n",
      "facebook.com\n",
      "davidyurman.com\n",
      "['cnn.com', 'yahoo.com', 'instagram.com', 'facebook.com', 'davidyurman.com']\n",
      "CNN - Cable News Network- rank: 79\n",
      "Yahoo!- rank: 10\n",
      "<title>\n",
      "Instagram\n",
      "</title>\n"
     ]
    },
    {
     "ename": "KeyError",
     "evalue": "'Description'",
     "output_type": "error",
     "traceback": [
      "\u001b[0;31m---------------------------------------------------------------------------\u001b[0m",
      "\u001b[0;31mKeyError\u001b[0m                                  Traceback (most recent call last)",
      "\u001b[0;32m<ipython-input-256-698c5273d222>\u001b[0m in \u001b[0;36m<module>\u001b[0;34m\u001b[0m\n\u001b[1;32m     21\u001b[0m     \u001b[0;32mif\u001b[0m \u001b[0mtitle\u001b[0m \u001b[0;34m==\u001b[0m \u001b[0;34m''\u001b[0m\u001b[0;34m:\u001b[0m\u001b[0;34m\u001b[0m\u001b[0;34m\u001b[0m\u001b[0m\n\u001b[1;32m     22\u001b[0m         \u001b[0mtitle\u001b[0m \u001b[0;34m=\u001b[0m \u001b[0mdomain\u001b[0m\u001b[0;34m\u001b[0m\u001b[0;34m\u001b[0m\u001b[0m\n\u001b[0;32m---> 23\u001b[0;31m     \u001b[0mdescription\u001b[0m \u001b[0;34m=\u001b[0m \u001b[0mawis_details\u001b[0m\u001b[0;34m[\u001b[0m\u001b[0;34m'Alexa'\u001b[0m\u001b[0;34m]\u001b[0m\u001b[0;34m[\u001b[0m\u001b[0;34m'ContentData'\u001b[0m\u001b[0;34m]\u001b[0m\u001b[0;34m[\u001b[0m\u001b[0;34m'SiteData'\u001b[0m\u001b[0;34m]\u001b[0m\u001b[0;34m[\u001b[0m\u001b[0;34m'Description'\u001b[0m\u001b[0;34m]\u001b[0m\u001b[0;34m\u001b[0m\u001b[0;34m\u001b[0m\u001b[0m\n\u001b[0m\u001b[1;32m     24\u001b[0m     \u001b[0madult_content\u001b[0m \u001b[0;34m=\u001b[0m \u001b[0mawis_details\u001b[0m\u001b[0;34m[\u001b[0m\u001b[0;34m'Alexa'\u001b[0m\u001b[0;34m]\u001b[0m\u001b[0;34m[\u001b[0m\u001b[0;34m'ContentData'\u001b[0m\u001b[0;34m]\u001b[0m\u001b[0;34m[\u001b[0m\u001b[0;34m'AdultContent'\u001b[0m\u001b[0;34m]\u001b[0m\u001b[0;34m\u001b[0m\u001b[0;34m\u001b[0m\u001b[0m\n\u001b[1;32m     25\u001b[0m     \u001b[0mlanguage_code\u001b[0m \u001b[0;34m=\u001b[0m \u001b[0mawis_details\u001b[0m\u001b[0;34m[\u001b[0m\u001b[0;34m'Alexa'\u001b[0m\u001b[0;34m]\u001b[0m\u001b[0;34m[\u001b[0m\u001b[0;34m'ContentData'\u001b[0m\u001b[0;34m]\u001b[0m\u001b[0;34m[\u001b[0m\u001b[0;34m'Language'\u001b[0m\u001b[0;34m]\u001b[0m\u001b[0;34m\u001b[0m\u001b[0;34m\u001b[0m\u001b[0m\n",
      "\u001b[0;31mKeyError\u001b[0m: 'Description'"
     ]
    }
   ],
   "source": [
    "url_batch = ['cnn.com','yahoo.com','instagram.com','facebook.com','davidyurman.com']\n",
    "urls_to_check = []\n",
    "\n",
    "for url in url_batch:\n",
    "    print(url)\n",
    "    if hostname_resolves(url):\n",
    "        urls_to_check.append(url)\n",
    "    \n",
    "print(urls_to_check)        \n",
    "results_list = get_awis_batch_websites(urls_to_check)['Awis']['Results']['Result']\n",
    "\n",
    "for idx, awis_details in enumerate(results_list):\n",
    "    url_requested = awis_details['Alexa']['Request']['Arguments']['Argument'][0]['Value']\n",
    "    data_url = awis_details['Alexa']['ContentData']['DataUrl']\n",
    "    domain = tldextract.extract(data_url).domain\n",
    "    subdomain = tldextract.extract(data_url).subdomain\n",
    "    suffix = tldextract.extract(data_url).suffix\n",
    "    title = awis_details['Alexa']['ContentData']['SiteData']['Title']\n",
    "    if title == data_url:\n",
    "        title = get_website_title(data_url)\n",
    "    if title == '':\n",
    "        title = domain\n",
    "    description = awis_details['Alexa']['ContentData']['SiteData']['Description']\n",
    "    adult_content = awis_details['Alexa']['ContentData']['AdultContent']\n",
    "    language_code = awis_details['Alexa']['ContentData']['Language']\n",
    "    if language_code:\n",
    "        language = language_code['Locale']\n",
    "    else:\n",
    "        language = ''\n",
    "    links_in_count = awis_details['Alexa']['ContentData']['LinksInCount']\n",
    "    rank = awis_details['Alexa']['TrafficData']['Rank']\n",
    "    rank_by_country = awis_details['Alexa']['TrafficData']['RankByCountry']['Country']\n",
    "    for country_rank in rank_by_country:\n",
    "        if country_rank['@Code'] == 'US':\n",
    "            rank_usa = country_rank['Rank']\n",
    "    print(title + '- rank: ' + rank)"
   ]
  },
  {
   "cell_type": "code",
   "execution_count": 3,
   "metadata": {},
   "outputs": [],
   "source": [
    "\n"
   ]
  },
  {
   "cell_type": "markdown",
   "metadata": {},
   "source": [
    "# Metadata parsing\n"
   ]
  },
  {
   "cell_type": "code",
   "execution_count": 35,
   "metadata": {},
   "outputs": [],
   "source": [
    "import lxml\n",
    "import metadata_parser\n",
    "USER_AGENT = \"Mozilla/5.0 (Macintosh; Intel Mac OS X 10.14; rv:65.0) Gecko/20100101 Firefox/65.0\"\n",
    "parser_headers = {'User-Agent': USER_AGENT}"
   ]
  },
  {
   "cell_type": "code",
   "execution_count": 20,
   "metadata": {},
   "outputs": [],
   "source": [
    "page = metadata_parser.MetadataParser(url=\"https://www.britannica.com/place/Bora-Bora\")"
   ]
  },
  {
   "cell_type": "code",
   "execution_count": 17,
   "metadata": {},
   "outputs": [],
   "source": []
  },
  {
   "cell_type": "code",
   "execution_count": 21,
   "metadata": {},
   "outputs": [
    {
     "name": "stdout",
     "output_type": "stream",
     "text": [
      "{'og': {'type': 'ARTICLE', 'title': 'Bora-Bora | Facts, History, & Points of Interest', 'description': 'Bora-Bora, volcanic island, Iles Sous le Vent (Leeward Islands), in the Society Islands of French Polynesia. It lies in the central South Pacific Ocean, about 165 miles (265 km) northwest of Tahiti. It is surrounded by coral reefs. Vaitape, the principal village and administrative center, is on the west coast.', 'site_name': 'Encyclopedia Britannica', 'url': 'https://www.britannica.com/place/Bora-Bora', 'image': 'https://cdn.britannica.com/57/99557-050-213502D2/Hut-dwellings-Bora-Bora-Society-Islands-French-Polynesia.jpg', 'image:type': 'image/jpeg'}, 'meta': {'charset': 'utf-8', 'Content-Type': 'text/html; charset=UTF-8', 'viewport': 'width=device-width, initial-scale=1.0', 'p:domain_verify': '5247c07bac63b6b3250f68cfe355c9a2', 'fb:pages': '74442380906', 'description': 'Bora-Bora, volcanic island, Iles Sous le Vent (Leeward Islands), in the Society Islands of French Polynesia. It lies in the central South Pacific Ocean, about 165 miles (265 km) northwest of Tahiti. It is surrounded by coral reefs. Vaitape, the principal village and administrative center, is on the west coast.', 'keywords': 'Bora-Bora, encyclopedia, encyclopeadia, britannica, article', 'fb:app_id': '1887621861548296', 'twitter:card': 'summary_large_image', 'twitter:site': '@britannica', 'twitter:image': 'https://cdn.britannica.com/57/99557-050-213502D2/Hut-dwellings-Bora-Bora-Society-Islands-French-Polynesia.jpg', 'twitter:description': 'Bora-Bora, volcanic island, Iles Sous le Vent (Leeward Islands), in the Society Islands of French Polynesia. It lies in the central South Pacific Ocean, about 165 miles (265 km) northwest of Tahiti. It is surrounded by coral reefs. Vaitape, the principal village and administrative center, is on the west coast.', 'og:type': 'ARTICLE', 'og:title': 'Bora-Bora | Facts, History, & Points of Interest', 'og:description': 'Bora-Bora, volcanic island, Iles Sous le Vent (Leeward Islands), in the Society Islands of French Polynesia. It lies in the central South Pacific Ocean, about 165 miles (265 km) northwest of Tahiti. It is surrounded by coral reefs. Vaitape, the principal village and administrative center, is on the west coast.', 'og:site_name': 'Encyclopedia Britannica', 'og:url': 'https://www.britannica.com/place/Bora-Bora', 'og:image': 'https://cdn.britannica.com/57/99557-050-213502D2/Hut-dwellings-Bora-Bora-Society-Islands-French-Polynesia.jpg', 'og:image:type': 'image/jpeg'}, 'dc': {}, 'page': {'title': 'Bora-Bora | Facts, History, & Points of Interest | Britannica', 'canonical': 'https://www.britannica.com/place/Bora-Bora'}, 'twitter': {'card': 'summary_large_image', 'site': '@britannica', 'image': 'https://cdn.britannica.com/57/99557-050-213502D2/Hut-dwellings-Bora-Bora-Society-Islands-French-Polynesia.jpg', 'description': 'Bora-Bora, volcanic island, Iles Sous le Vent (Leeward Islands), in the Society Islands of French Polynesia. It lies in the central South Pacific Ocean, about 165 miles (265 km) northwest of Tahiti. It is surrounded by coral reefs. Vaitape, the principal village and administrative center, is on the west coast.'}, '_internal': {'url': 'https://www.britannica.com/place/Bora-Bora', 'url_actual': 'https://www.britannica.com/place/Bora-Bora'}, '_v': 1}\n"
     ]
    }
   ],
   "source": [
    "print( page.metadata)"
   ]
  },
  {
   "cell_type": "code",
   "execution_count": 10,
   "metadata": {},
   "outputs": [
    {
     "name": "stdout",
     "output_type": "stream",
     "text": [
      "['Bora-Bora, volcanic island, Iles Sous le Vent (Leeward Islands), in the Society Islands of French Polynesia. It lies in the central South Pacific Ocean, about 165 miles (265 km) northwest of Tahiti. It is surrounded by coral reefs. Vaitape, the principal village and administrative center, is on the west coast.']\n"
     ]
    }
   ],
   "source": [
    "print(page.get_metadatas('description'))"
   ]
  },
  {
   "cell_type": "code",
   "execution_count": null,
   "metadata": {
    "scrolled": false
   },
   "outputs": [],
   "source": [
    "page = metadata_parser.MetadataParser(url=\"https://money.usnews.com\", url_headers=parser_headers, requests_timeout=10)"
   ]
  },
  {
   "cell_type": "code",
   "execution_count": 36,
   "metadata": {},
   "outputs": [
    {
     "name": "stdout",
     "output_type": "stream",
     "text": [
      "None\n"
     ]
    }
   ],
   "source": [
    "print(page.get_metadatas('description'))\n"
   ]
  },
  {
   "cell_type": "code",
   "execution_count": null,
   "metadata": {},
   "outputs": [],
   "source": [
    "page = metadata_parser.MetadataParser(url=\"https://www.mayoclinic.org/diseases-conditions/dry-skin/expert-answers/cracked-thumb-tip/faq-20450998\")"
   ]
  },
  {
   "cell_type": "code",
   "execution_count": 29,
   "metadata": {},
   "outputs": [
    {
     "name": "stdout",
     "output_type": "stream",
     "text": [
      "None\n"
     ]
    }
   ],
   "source": [
    "print(page.get_metadatas('image'))"
   ]
  },
  {
   "cell_type": "code",
   "execution_count": 31,
   "metadata": {},
   "outputs": [
    {
     "data": {
      "text/plain": [
       "'https://i.ytimg.com/vi/_WS9w10ygpU/maxresdefault.jpg'"
      ]
     },
     "execution_count": 31,
     "metadata": {},
     "output_type": "execute_result"
    }
   ],
   "source": [
    "page.get_metadata_link('image', allow_encoded_uri=True)"
   ]
  },
  {
   "cell_type": "code",
   "execution_count": 9,
   "metadata": {},
   "outputs": [],
   "source": [
    "import metadata_parser"
   ]
  },
  {
   "cell_type": "code",
   "execution_count": 32,
   "metadata": {},
   "outputs": [],
   "source": [
    "page = metadata_parser.MetadataParser(url=\"https://www.youtube.com/watch?v=_WS9w10ygpU\")\n"
   ]
  },
  {
   "cell_type": "code",
   "execution_count": 33,
   "metadata": {},
   "outputs": [],
   "source": [
    "import requests"
   ]
  },
  {
   "cell_type": "code",
   "execution_count": 36,
   "metadata": {},
   "outputs": [],
   "source": [
    "page_header = requests.head(\"https://www.bloomberg.com/news/articles/2020-11-07/after-crushing-covid-melbourne-emerges-wary-and-more-sedate\", headers=parser_headers, allow_redirects=True)"
   ]
  },
  {
   "cell_type": "code",
   "execution_count": 37,
   "metadata": {},
   "outputs": [
    {
     "data": {
      "text/plain": [
       "{'Connection': 'keep-alive', 'Content-Length': '53335', 'Content-Type': 'text/html; charset=utf-8', 'Server': 'openresty', 'Content-Security-Policy': \"frame-ancestors 'self' http://*.bloomberg.com https://*.bloomberg.com, upgrade-insecure-requests\", 'ETag': 'W/\"507e1-ZBrDePFxRoPo5ZWABdyrcu6EhE4\"', 'Content-Encoding': 'gzip', 'Cache-Control': 'public, max-age=120', 'Fastly-Restarts': '1', 'Accept-Ranges': 'bytes', 'Date': 'Mon, 09 Nov 2020 07:22:58 GMT', 'Age': '0', 'Set-Cookie': '_pxhd=41ed4fa809e698a598f8b9166918921b51ea71e2530ebc527161fa6e98a9bc39:649f01d1-225c-11eb-adc2-2b70b001dcf5; Expires=Fri, 01 Jan 2021 00:00:00 GMT; path=/;', 'X-Served-By': 'cache-mia11328-MIA', 'X-Cache': 'MISS', 'X-Cache-Hits': '0', 'Strict-Transport-Security': 'max-age=31557600', 'Vary': 'Accept-Encoding, Accept-Encoding'}"
      ]
     },
     "execution_count": 37,
     "metadata": {},
     "output_type": "execute_result"
    }
   ],
   "source": [
    "page_header.headers"
   ]
  },
  {
   "cell_type": "code",
   "execution_count": 54,
   "metadata": {},
   "outputs": [],
   "source": [
    "answer_link = \"https://www.bloomberg.com/news/articles/2020-11-07/after-crushing-covid-melbourne-emerges-wary-and-more-sedate\"\n",
    "page = requests.head(answer_link, headers=parser_headers, timeout=6, allow_redirects=True)"
   ]
  },
  {
   "cell_type": "code",
   "execution_count": 49,
   "metadata": {},
   "outputs": [],
   "source": [
    "header = {\"user-agent\": \"lazybot\" ,'referer':'https://www.google.com/'}\n",
    "r = requests.get(\"http://webcache.googleusercontent.com/search?strip=1&q=cache:www.bloomberg.com/news/articles/2020-11-07/after-crushing-covid-melbourne-emerges-wary-and-more-sedate\",headers=header)"
   ]
  },
  {
   "cell_type": "code",
   "execution_count": 57,
   "metadata": {},
   "outputs": [],
   "source": [
    "answer_link_google_cache = f\"http://webcache.googleusercontent.com/search?q=cache:{answer_link.partition('://')[2]}\""
   ]
  },
  {
   "cell_type": "code",
   "execution_count": 58,
   "metadata": {},
   "outputs": [
    {
     "data": {
      "text/plain": [
       "'http://webcache.googleusercontent.com/search?q=cache:www.bloomberg.com/news/articles/2020-11-07/after-crushing-covid-melbourne-emerges-wary-and-more-sedate'"
      ]
     },
     "execution_count": 58,
     "metadata": {},
     "output_type": "execute_result"
    }
   ],
   "source": [
    "answer_link_google_cache"
   ]
  },
  {
   "cell_type": "code",
   "execution_count": 50,
   "metadata": {},
   "outputs": [
    {
     "data": {
      "text/plain": [
       "b'<meta http-equiv=\"Content-Type\" content=\"text/html; charset=UTF-8\"><base href=\"https://www.bloomberg.com/news/articles/2020-11-07/after-crushing-covid-melbourne-emerges-wary-and-more-sedate\"><style>body{margin-left:0;margin-right:0;margin-top:0}#bN015htcoyT__google-cache-hdr{background:#f8f9fa;font:13px arial,sans-serif;text-align:left;color:#202124;border:0;margin:0;border-bottom:1px solid #dadce0;line-height:16px;padding:16px 28px 24px 28px}#bN015htcoyT__google-cache-hdr *{display:inline;font:inherit;text-align:inherit;color:inherit;line-height:inherit;background:none;border:0;margin:0;padding:0;letter-spacing:0}#bN015htcoyT__google-cache-hdr a{text-decoration:none;color:#4b11a8}#bN015htcoyT__google-cache-hdr a:hover{text-decoration:underline}#bN015htcoyT__google-cache-hdr a:visited{color:#4b11a8}#bN015htcoyT__google-cache-hdr div{display:block;margin-top:4px}#bN015htcoyT__google-cache-hdr b{font-weight:bold;display:inline-block;direction:ltr}</style><div id=\"bN015htcoyT__google-cache-hdr\"><div><span>This is Google\\'s cache of <a href=\"https://www.bloomberg.com/news/articles/2020-11-07/after-crushing-covid-melbourne-emerges-wary-and-more-sedate\">https://www.bloomberg.com/news/articles/2020-11-07/after-crushing-covid-melbourne-emerges-wary-and-more-sedate</a>.</span>&nbsp;<span>It is a snapshot of the page as it appeared on Nov 9, 2020 05:32:03 GMT.</span>&nbsp;<span>The <a href=\"https://www.bloomberg.com/news/articles/2020-11-07/after-crushing-covid-melbourne-emerges-wary-and-more-sedate\">current page</a> could have changed in the meantime.</span>&nbsp;<a href=\"http://support.google.com/websearch/bin/answer.py?hl=en&amp;p=cached&amp;answer=1687222\"><span>Learn more</span>.</a></div><div><span style=\"display:inline-block;margin-top:8px;margin-right:104px;white-space:nowrap\"><span style=\"margin-right:28px\"><a href=\"http://webcache.googleusercontent.com/search?q=cache:www.bloomberg.com/news/articles/2020-11-07/after-crushing-covid-melbourne-emerges-wary-and-more-sedate&amp;ie=UTF-8&amp;strip=0&amp;vwsrc=0\"><span>Full version</span></a></span><span style=\"margin-right:28px\"><span style=\"font-weight:bold\">Text-only version</span></span><span style=\"margin-right:28px\"><a href=\"http://webcache.googleusercontent.com/search?q=cache:www.bloomberg.com/news/articles/2020-11-07/after-crushing-covid-melbourne-emerges-wary-and-more-sedate&amp;ie=UTF-8&amp;strip=0&amp;vwsrc=1\"><span>View source</span></a></span></span></div><span style=\"display:inline-block;margin-top:8px;color:#70757a\"><span>Tip: To quickly find your search term on this page, press <b>Ctrl+F</b> or <b>&#8984;-F</b> (Mac) and use the find bar.</span></span></div><div style=\"position:relative; margin:8px;\">\\n        <html prefix=\"og: http://ogp.me/ns#\" lang=\"en\">\\n            <head>\\n                \\n                \\n        \\n        \\n        \\n        \\n        \\n        \\n        \\n        \\n           \\n        \\n                \\n\\n\\n\\n\\n\\n\\n\\n\\n\\n\\n\\n\\n                <title>Is Melbourne Australia Covid-Free Now - Bloomberg</title>\\n        \\n        <meta name=\"description\" content=\"Melbourne has gone 10 days without any reported Covid-19 cases, and the majority of its 5 million residents aren&#8217;t taking chances.\">\\n        <meta name=\"iso-8601-publish-date\" content=\"2020-11-07T17:25:09.284Z\">\\n        <meta name=\"checksum\" content=\"3d7a3c8c2791cb57a28c3d7e9ed6fd33\">\\n        <meta name=\"validatedAt\" content=\"2020-11-09T05:31:45.200Z\">\\n        <meta name=\"referrer\" content=\"unsafe-url\">\\n        <meta name=\"referrer\" content=\"always\">\\n        <meta property=\"al:android:url\" content=\"bloomberg://www.bloomberg.com/news/articles/2020-11-07/after-crushing-covid-melbourne-emerges-wary-and-more-sedate?utm_medium=applink&utm_source=facebook\">\\n        <meta property=\"al:android:package\" content=\"com.bloomberg.android.plus\">\\n        <meta property=\"al:android:app_name\" content=\"Bloomberg\">\\n        <meta property=\"og:description\" content=\"Melbourne has gone 10 days without any reported Covid-19 cases, and the majority of its 5 million residents aren&#8217;t taking chances.\">\\n        <meta property=\"og:image\" content=\"https://assets.bwbx.io/images/users/iqjWHBFdfxIU/i7.33n7RoSp0/v0/1200x799.jpg\">\\n        <meta property=\"og:site_name\" content=\"Bloomberg.com\">\\n        <meta property=\"og:title\" content=\"After Crushing Covid, Melbourne Emerges Wary and More Sedate\">\\n        <meta property=\"og:type\" content=\"article\">\\n        <meta property=\"og:url\" content=\"https://www.bloomberg.com/news/articles/2020-11-07/after-crushing-covid-melbourne-emerges-wary-and-more-sedate\">\\n        <meta property=\"article:opinion\" content=\"false\">\\n        <meta property=\"article:content_tier\" content=\"metered\">\\n        <meta name=\"fb:status\" content=\"Melbourne has gone 10 days without any reported Covid-19 cases, and the majority of its 5 million residents aren&#8217;t taking chances.\">\\n        <meta name=\"twitter:card\" content=\"summary_large_image\">\\n        <meta name=\"twitter:description\" content=\"Melbourne has gone 10 days without any reported Covid-19 cases, and the majority of its 5 million residents aren&#8217;t taking chances.\">\\n        <meta name=\"twitter:image\" content=\"https://assets.bwbx.io/images/users/iqjWHBFdfxIU/i7.33n7RoSp0/v0/1200x799.jpg\">\\n        <meta name=\"twitter:site\" content=\"@business\">\\n        <meta name=\"twitter:title\" content=\"After Crushing Covid, Melbourne Emerges Wary and More Sedate\">\\n        <meta name=\"parsely-title\" content=\"Is Melbourne Australia Covid-Free Now\">\\n        <meta name=\"parsely-link\" content=\"https://www.bloomberg.com/news/articles/2020-11-07/after-crushing-covid-melbourne-emerges-wary-and-more-sedate\">\\n        <meta name=\"parsely-type\" content=\"post\">\\n        <meta name=\"parsely-image-url\" content=\"https://assets.bwbx.io/images/users/iqjWHBFdfxIU/i7.33n7RoSp0/v0/1200x799.jpg\">\\n        <meta name=\"parsely-pub-date\" content=\"2020-11-07T17:25:09.284Z\">\\n        <meta name=\"parsely-section\" content=\"business\">\\n        <meta name=\"parsely-tags\" content=\"Melbourne,Coronavirus,Public Health,Cities,Helen Clark,New Zealand,Australia,Europe,North America,Daniel Andrews,Secondary Brand: business,Secondary Brand: politics,Franchise: prognosis,Region: Global,Page: article\">\\n        <meta name=\"parsely-post-id\" content=\"QJD6URDWRGG101\">\\n        <meta name=\"parsely-author\" content=\"Jason Gale\">\\n<meta name=\"parsely-author\" content=\"Matthew Burgess\">\\n        \\n        \\n    \\n        \\n    \\n                <meta charset=\"utf-8\">\\n        <meta name=\"viewport\" content=\"width=device-width, initial-scale=1, viewport-fit=cover\">\\n        <meta name=\"apple-mobile-web-app-capable\" content=\"no\">\\n        <meta name=\"apple-mobile-web-app-status-bar-style\" content=\"black\">\\n                <meta name=\"sailthru.title\" content=\"After Crushing Covid, Melbourne Emerges Wary and More Sedate\">\\n        <meta name=\"sailthru.author\" content=\"Jason Gale,Matthew Burgess\">\\n        <meta name=\"sailthru.tags\" content=\"Melbourne,Coronavirus,Public Health,Cities,Helen Clark,New Zealand,Australia,Europe,North America,Daniel Andrews,business,politics,prognosis\">\\n        <meta name=\"keywords\" content=\"Melbourne,Coronavirus,Public Health,Cities,Helen Clark,New Zealand,Australia,Europe,North America,Daniel Andrews,business,politics,prognosis\">\\n        <meta name=\"sailthru.description\" content=\"Melbourne has gone 10 days without any reported Covid-19 cases, and the majority of its 5 million residents aren&#8217;t taking chances.\">\\n        <meta name=\"sailthru.date\" content=\"2020-11-07T17:25:09.284Z\">\\n                \\n                \\n                \\n                \\n                \\n                \\n\\n\\n\\n\\n\\n\\n\\n                \\n                \\n    \\n    \\n    \\n    \\n                \\n        \\n        \\n            </head>\\n            <body data-theme=\"default\" data-type=\"article\">\\n                <a href=\"#skip-to-main-content\" class=\"skiplink__hide-until-focus\">Skip to content</a>\\n                \\n                \\n                <div class=\"superburst-container\" style=\"display:none\">\\n            <div id=\"superburst-qnv8i76\" class=\"superburst\" data-position=\"superburst\">\\n                \\n                \\n            </div>\\n        </div>\\n                <div class=\"overlay-container overlay-container--default\">\\n            <div id=\"overlay-sFG7fdQ\" class=\"overlay\" data-position=\"overlay\">\\n                \\n                \\n            </div>\\n        </div>\\n                <div class=\"leaderboard-container\">\\n        <div id=\"leaderboard-LjMVTfG\" class=\"leaderboard\" data-position=\"leaderboard\">\\n            \\n            \\n            <div class=\"leaderboard-ad-dummy\"></div>\\n        </div>\\n    </div>\\n                \\n                \\n<div id=\"bb-that\" data-alert-service=\"https://www.bloomberg.com/tophat/api/alerts?site=bcom\">\\n\\t\\n\\t\\t<a href=\"#that-jump-content--default\" class=\"bb-that__skip-to-content\" aria-label=\"Skip to content\" role=\"button\" tabindex=\"0\">Skip to content</a>\\n    <div class=\"bb-that-header bb-that--container\">\\n        <a class=\"bb-that-header__link bb-that-header--sitemap-trigger\" href=\"http://www.bloomberg.com/company/?utm_source=bloomberg-menu&amp;utm_medium=bcom\" role=\"button\" aria-controls=\"bb-that--container\" aria-expanded=\"false\">Bloomberg the Company &amp; Its ProductsThe Company &amp; its Products</a><a class=\"bb-that-header__link\" href=\"http://www.bloomberg.com/professional/contact-menu/?utm_source=bloomberg-menu&amp;utm_medium=bcom&amp;bbgsum=DG-WS-PROF-DEMO-bbgmenu\">Bloomberg Terminal Demo Request</a><a class=\"bb-that-header__link\" href=\"https://bba.bloomberg.net/?utm_source=bloomberg-menu&amp;utm_medium=bcom\">Bloomberg Anywhere Remote LoginBloomberg Anywhere Login</a><a class=\"bb-that-header__link\" href=\"https://service.bloomberg.com/service?utm_source=bloomberg-menu&amp;utm_medium=bcom\">Bloomberg Customer SupportCustomer Support</a>    </div>\\n\\t\\t<div id=\"bb-that--container\" class=\"bb-that__sitemap bb-that--container\" tabindex=\"-1\" role=\"dialog\">\\n    \\n    <ul class=\"bb-that__sitemap-sections bb-that--visible-md bb-that--visible-lg\"></ul>\\n\\n        <ul class=\"bb-that__sitemap-sections bb-that--visible-sm\"></ul>\\n\\n    \\n</div>\\t\\n</div>\\n<div id=\"that-jump-content--default\" tabindex=\"-1\"></div>\\n\\n                \\n                <div class=\"navi-bar\">\\n                    <div class=\"navi-bar__left\"><!--\\n                    --><a tabindex=\"0\" href=\"/sitemap\" class=\"navi-bar__button navi-bar__button--menu\" title=\"Toggle menu\" aria-label=\"Toggle menu\" aria-haspopup=\"menu\" role=\"button\">Menu</a><!--\\n                    --><a href=\"/search\" class=\"navi-bar__button navi-bar__button--search\" id=\"nav-bar-search-button\" tabindex=\"0\" aria-haspopup=\"true\" role=\"button\">Search</a><!--\\n                    --><a tabindex=\"0\" class=\"navi-bar__button navi-bar__button--localization navi-bar__button--hide noscript-hide\" aria-haspopup=\"true\" role=\"button\">&nbsp;</a><!--\\n                --></div>\\n                    <a href=\"/\" class=\"navi-bar__logo\">\\n                        <div class=\"navi-bar__logo--text\">Bloomberg</div>\\n                    </a>\\n                    <div class=\"navi-bar__right\"><!--\\n                    --><a href=\"https://www.bloomberg.com/account/signup?in_source=login_direct\" class=\"navi-bar__button navi-bar__button--sign-in navi-sign-in-link noscript-hide\">Sign In</a><!--\\n                    -->Sign Out<!--\\n                    --><a href=\"https://www.bloomberg.com/subscriptions?in_source=fs-nav\" class=\"navi-bar__button navi-bar__button--subscribe navi-subscribe-link\">Subscribe</a><!--\\n                    --><div class=\"navi-referrals-opt-in-tout\" data-breaking-news-state=\"present\" data-push-notification-prompt-state=\"present\" data-loading=\"true\"></div><!--\\n                --></div>\\n                </div>\\n                \\n        <div class=\"navi-menu\" aria-expanded=\"false\">\\n            <div class=\"navi-menu__inner\">\\n                \\n        <div class=\"navi-sections\">\\n            \\n        <ul class=\"navi-sections__list\" role=\"menu\">\\n                    <li data-section=\"business\" data-submenu=\"true\" class=\"navi-sections__item navi-sections__item--business navi-sections__item--has-submenu\"  role=\"menuitem\" tabindex=\"-1\" aria-haspopup=\"menu\" aria-owns=\"navi-submenu-business\">\\n                        <h2 class=\"navi-sections__head\">\\n                            <a class=\"navi-sections__link \" href=\"/\" tabindex=\"-1\">Home</a>\\n                        </h2>\\n                        \\n                    </li>\\n                \\n                    <li data-section=\"markets\" data-submenu=\"true\" class=\"navi-sections__item navi-sections__item--markets navi-sections__item--has-submenu\"  role=\"menuitem\" tabindex=\"-1\" aria-haspopup=\"menu\" aria-owns=\"navi-submenu-markets\">\\n                        <h2 class=\"navi-sections__head\">\\n                            <a class=\"navi-sections__link \" href=\"/markets\" tabindex=\"-1\">Markets</a>\\n                        </h2>\\n                        \\n                    </li>\\n                \\n                    <li data-section=\"technology\" data-submenu=\"true\" class=\"navi-sections__item navi-sections__item--technology navi-sections__item--has-submenu\"  role=\"menuitem\" tabindex=\"-1\" aria-haspopup=\"menu\" aria-owns=\"navi-submenu-technology\">\\n                        <h2 class=\"navi-sections__head\">\\n                            <a class=\"navi-sections__link \" href=\"/technology\" tabindex=\"-1\">Technology</a>\\n                        </h2>\\n                        \\n                    </li>\\n                \\n                    <li data-section=\"politics\" data-submenu=\"true\" class=\"navi-sections__item navi-sections__item--politics navi-sections__item--has-submenu\"  role=\"menuitem\" tabindex=\"-1\" aria-haspopup=\"menu\" aria-owns=\"navi-submenu-politics\">\\n                        <h2 class=\"navi-sections__head\">\\n                            <a class=\"navi-sections__link \" href=\"/politics\" tabindex=\"-1\">Politics</a>\\n                        </h2>\\n                        \\n                    </li>\\n                \\n                    <li data-section=\"wealth\" data-submenu=\"true\" class=\"navi-sections__item navi-sections__item--wealth navi-sections__item--has-submenu\"  role=\"menuitem\" tabindex=\"-1\" aria-haspopup=\"menu\" aria-owns=\"navi-submenu-wealth\">\\n                        <h2 class=\"navi-sections__head\">\\n                            <a class=\"navi-sections__link \" href=\"/wealth\" tabindex=\"-1\">Wealth</a>\\n                        </h2>\\n                        \\n                    </li>\\n                \\n                    <li data-section=\"pursuits\" data-submenu=\"true\" class=\"navi-sections__item navi-sections__item--pursuits navi-sections__item--has-submenu\"  role=\"menuitem\" tabindex=\"-1\" aria-haspopup=\"menu\" aria-owns=\"navi-submenu-pursuits\">\\n                        <h2 class=\"navi-sections__head\">\\n                            <a class=\"navi-sections__link \" href=\"/pursuits\" tabindex=\"-1\">Pursuits</a>\\n                        </h2>\\n                        \\n                    </li>\\n                \\n                    <li data-section=\"opinion\" data-submenu=\"true\" class=\"navi-sections__item navi-sections__item--opinion navi-sections__item--has-submenu\"  role=\"menuitem\" tabindex=\"-1\" aria-haspopup=\"menu\" aria-owns=\"navi-submenu-opinion\">\\n                        <h2 class=\"navi-sections__head\">\\n                            <a class=\"navi-sections__link \" href=\"/opinion\" tabindex=\"-1\">Opinion</a>\\n                        </h2>\\n                        \\n                    </li>\\n                \\n                    <li data-section=\"businessweek\" data-submenu=\"true\" class=\"navi-sections__item navi-sections__item--businessweek navi-sections__item--has-submenu\"  role=\"menuitem\" tabindex=\"-1\" aria-haspopup=\"menu\" aria-owns=\"navi-submenu-businessweek\">\\n                        <h2 class=\"navi-sections__head\">\\n                            <a class=\"navi-sections__link \" href=\"/businessweek\" tabindex=\"-1\">Businessweek</a>\\n                        </h2>\\n                        \\n                    </li>\\n                \\n                    <li data-section=\"neweconomy\" data-submenu=\"true\" class=\"navi-sections__item navi-sections__item--neweconomy navi-sections__item--has-submenu\"  role=\"menuitem\" tabindex=\"-1\" aria-haspopup=\"menu\" aria-owns=\"navi-submenu-neweconomy\">\\n                        <h2 class=\"navi-sections__head\">\\n                            <a class=\"navi-sections__link \" href=\"/new-economy-forum\" tabindex=\"-1\">New Economy</a>\\n                        </h2>\\n                        \\n                    </li>\\n                \\n                    <li data-section=\"green\" data-submenu=\"true\" class=\"navi-sections__item navi-sections__item--green navi-sections__item--has-submenu\"  role=\"menuitem\" tabindex=\"-1\" aria-haspopup=\"menu\" aria-owns=\"navi-submenu-green\">\\n                        <h2 class=\"navi-sections__head\">\\n                            <a class=\"navi-sections__link \" href=\"/green\" tabindex=\"-1\">Green</a>\\n                        </h2>\\n                        \\n                    </li>\\n                \\n                    <li data-section=\"citylab\" data-submenu=\"true\" class=\"navi-sections__item navi-sections__item--citylab navi-sections__item--has-submenu\"  role=\"menuitem\" tabindex=\"-1\" aria-haspopup=\"menu\" aria-owns=\"navi-submenu-citylab\">\\n                        <h2 class=\"navi-sections__head\">\\n                            <a class=\"navi-sections__link \" href=\"/citylab\" tabindex=\"-1\">CityLab</a>\\n                        </h2>\\n                        \\n                    </li>\\n                \\n        </ul>\\n    <hr class=\"navi-sections__divider\">\\n        <ul class=\"navi-sections__list\" role=\"menu\">\\n                    <li data-section=\"video\" data-submenu=\"true\" class=\"navi-sections__item navi-sections__item--video navi-sections__item--has-submenu\"  role=\"menuitem\" tabindex=\"-1\" aria-haspopup=\"menu\" aria-owns=\"navi-submenu-video\">\\n                        <h2 class=\"navi-sections__head\">\\n                            <a class=\"navi-sections__link \" href=\"/live\" tabindex=\"-1\">Video</a>\\n                        </h2>\\n                        \\n                    </li>\\n                \\n                    <li data-section=\"podcasts\" data-submenu=\"true\" class=\"navi-sections__item navi-sections__item--podcasts navi-sections__item--has-submenu\"  role=\"menuitem\" tabindex=\"-1\" aria-haspopup=\"menu\" aria-owns=\"navi-submenu-podcasts\">\\n                        <h2 class=\"navi-sections__head\">\\n                            <a class=\"navi-sections__link \" href=\"/podcasts\" tabindex=\"-1\">Podcasts</a>\\n                        </h2>\\n                        \\n                    </li>\\n                \\n                    <li data-section=\"radio\" data-submenu=\"false\" class=\"navi-sections__item navi-sections__item--radio \"  role=\"menuitem\" tabindex=\"-1\" >\\n                        <h2 class=\"navi-sections__head\">\\n                            <a class=\"navi-sections__link \" href=\"/audio\" tabindex=\"-1\">Radio</a>\\n                        </h2>\\n                        \\n                    </li>\\n                \\n        </ul>\\n    <hr class=\"navi-sections__divider\">\\n        <ul class=\"navi-sections__list\" role=\"menu\">\\n                    <li data-section=\"newsletters\" data-submenu=\"false\" class=\"navi-sections__item navi-sections__item--newsletters \"  role=\"menuitem\" tabindex=\"-1\" >\\n                        <h2 class=\"navi-sections__head\">\\n                            <a class=\"navi-sections__link \" href=\"https://www.bloomberg.com/account/newsletters?source=site_nav\" tabindex=\"-1\">Newsletters</a>\\n                        </h2>\\n                        \\n                    </li>\\n                \\n                    <li data-section=\"watchlist\" data-submenu=\"false\" class=\"navi-sections__item navi-sections__item--watchlist \"  role=\"menuitem\" tabindex=\"-1\" >\\n                        <h2 class=\"navi-sections__head\">\\n                            <a class=\"navi-sections__link \" href=\"/markets/watchlist\" tabindex=\"-1\">Watchlist</a>\\n                        </h2>\\n                        \\n                    </li>\\n                \\n                    <li data-section=\"subscribe\" data-submenu=\"false\" class=\"navi-sections__item navi-sections__item--subscribe \"  role=\"menuitem\" tabindex=\"-1\" >\\n                        <h2 class=\"navi-sections__head\">\\n                            <a class=\"navi-sections__link navi-subscribe-link\" href=\"https://www.bloomberg.com/subscriptions?in_source=menu\" tabindex=\"-1\">Subscribe</a>\\n                        </h2>\\n                        \\n                    </li>\\n                \\n                    <li data-section=\"sign-in\" data-submenu=\"false\" class=\"navi-sections__item navi-sections__item--sign-in \"  role=\"menuitem\" tabindex=\"-1\" >\\n                        <h2 class=\"navi-sections__head\">\\n                            <a class=\"navi-sections__link navi-sign-in-link\" href=\"https://www.bloomberg.com/account/signup?in_source=login_direct\" tabindex=\"-1\">Sign in</a>\\n                        </h2>\\n                        \\n                    </li>\\n                \\n        </ul>\\n    <hr class=\"navi-sections__divider\">\\n        <ul class=\"navi-sections__list\" role=\"menu\">\\n                    <li data-section=\"tips\" data-submenu=\"false\" class=\"navi-sections__item navi-sections__item--tips \"  role=\"menuitem\" tabindex=\"-1\" >\\n                        <h2 class=\"navi-sections__head\">\\n                            <a class=\"navi-sections__link \" href=\"/tips\" tabindex=\"-1\">Submit a Tip</a>\\n                        </h2>\\n                        \\n                    </li>\\n                \\n                    <li data-section=\"help\" data-submenu=\"false\" class=\"navi-sections__item navi-sections__item--help \"  role=\"menuitem\" tabindex=\"-1\" >\\n                        <h2 class=\"navi-sections__head\">\\n                            <a class=\"navi-sections__link \" href=\"https://www.bloomberg.com/help?in_source=help-nav\" tabindex=\"-1\">Help Center</a>\\n                        </h2>\\n                        \\n                    </li>\\n                \\n                    <li data-section=\"license\" data-submenu=\"false\" class=\"navi-sections__item navi-sections__item--license \"  role=\"menuitem\" tabindex=\"-1\" >\\n                        <h2 class=\"navi-sections__head\">\\n                            <a class=\"navi-sections__link \" href=\"/distribution\" tabindex=\"-1\">License</a>\\n                        </h2>\\n                        \\n                    </li>\\n                \\n        </ul>\\n    \\n        </div>\\n    \\n                \\n        <div id=\"navi-submenu-business\" class=\"navi-submenu navi-submenu--business\" role=\"list\">\\n            <div class=\"navi-submenu__content\">\\n                \\n        <div class=\"navi-submenu__column\">\\n            \\n        \\n            Read\\n            <ul class=\"navi-submenu__list\">\\n                <li class=\"navi-submenu__item\" role=\"listitem\" tabindex=\"-1\"><a tabindex=\"-1\" class=\"navi-submenu__link\" href=\"/new-economy-forum\">Bloomberg New Economy</a></li><li class=\"navi-submenu__item\" role=\"listitem\" tabindex=\"-1\"><a tabindex=\"-1\" class=\"navi-submenu__link\" href=\"/future-of-finance\">Future Finance</a></li><li class=\"navi-submenu__item\" role=\"listitem\" tabindex=\"-1\"><a tabindex=\"-1\" class=\"navi-submenu__link\" href=\"/wealth/\">Wealth</a></li><li class=\"navi-submenu__item\" role=\"listitem\" tabindex=\"-1\"><a tabindex=\"-1\" class=\"navi-submenu__link\" href=\"/next-china/\">Next China</a></li><li class=\"navi-submenu__item\" role=\"listitem\" tabindex=\"-1\"><a tabindex=\"-1\" class=\"navi-submenu__link\" href=\"/crypto\">Crypto</a></li><li class=\"navi-submenu__item\" role=\"listitem\" tabindex=\"-1\"><a tabindex=\"-1\" class=\"navi-submenu__link\" href=\"/checkout\">Checkout</a></li><li class=\"navi-submenu__item\" role=\"listitem\" tabindex=\"-1\"><a tabindex=\"-1\" class=\"navi-submenu__link\" href=\"/hyperdrive\">Hyperdrive</a></li><li class=\"navi-submenu__item\" role=\"listitem\" tabindex=\"-1\"><a tabindex=\"-1\" class=\"navi-submenu__link\" href=\"/well-spent\">Well Spent</a></li><li class=\"navi-submenu__item\" role=\"listitem\" tabindex=\"-1\"><a tabindex=\"-1\" class=\"navi-submenu__link\" href=\"/prognosis\">Prognosis</a></li><li class=\"navi-submenu__item\" role=\"listitem\" tabindex=\"-1\"><a tabindex=\"-1\" class=\"navi-submenu__link\" href=\"/business-of-equality\">Equality</a></li><li class=\"navi-submenu__item\" role=\"listitem\" tabindex=\"-1\"><a tabindex=\"-1\" class=\"navi-submenu__link\" href=\"/good-business\">Good Business</a></li><li class=\"navi-submenu__item\" role=\"listitem\" tabindex=\"-1\"><a tabindex=\"-1\" class=\"navi-submenu__link\" href=\"/billionaires/\">Billionaires</a></li><li class=\"navi-submenu__item\" role=\"listitem\" tabindex=\"-1\"><a tabindex=\"-1\" class=\"navi-submenu__link\" href=\"/graphics\">Graphics</a></li><li class=\"navi-submenu__item\" role=\"listitem\" tabindex=\"-1\"><a tabindex=\"-1\" class=\"navi-submenu__link\" href=\"/sponsor/partnerships/\">Sponsored Content</a></li><li class=\"navi-submenu__item\" role=\"listitem\" tabindex=\"-1\"><a tabindex=\"-1\" class=\"navi-submenu__link\" href=\"/screentime\">Screentime</a></li><li class=\"navi-submenu__item\" role=\"listitem\" tabindex=\"-1\"><a tabindex=\"-1\" class=\"navi-submenu__link\" href=\"/topics/retirement\">Retirement Center</a></li>\\n            </ul>\\n        \\n    \\n        \\n            Watch\\n            <ul class=\"navi-submenu__list\">\\n                <li class=\"navi-submenu__item\" role=\"listitem\" tabindex=\"-1\"><a tabindex=\"-1\" class=\"navi-submenu__link\" href=\"/features/peer-to-peer/\">The David Rubenstein Show</a></li><li class=\"navi-submenu__item\" role=\"listitem\" tabindex=\"-1\"><a tabindex=\"-1\" class=\"navi-submenu__link\" href=\"https://sponsored.bloomberg.com/news/sponsors/features/hyundai/artandtechnology/?adv=16713&prx_t=ZdMFAgU5DAYikPA\">Art + Technology</a></li><li class=\"navi-submenu__item\" role=\"listitem\" tabindex=\"-1\"><a tabindex=\"-1\" class=\"navi-submenu__link\" href=\"/segments/inspire-go\">Inspire GO</a></li>\\n            </ul>\\n        \\n    \\n        </div>\\n    \\n        <div class=\"navi-submenu__column\">\\n            \\n        \\n            Special Reports\\n            <ul class=\"navi-submenu__list\">\\n                <li class=\"navi-submenu__item\" role=\"listitem\" tabindex=\"-1\"><a tabindex=\"-1\" class=\"navi-submenu__link\" href=\"/features/2016-how-to-invest-10k\">Where to Invest $10,000</a></li><li class=\"navi-submenu__item\" role=\"listitem\" tabindex=\"-1\"><a tabindex=\"-1\" class=\"navi-submenu__link\" href=\"/features/companies-to-watch-2018\">50 Companies to Watch in 2018</a></li><li class=\"navi-submenu__item\" role=\"listitem\" tabindex=\"-1\"><a tabindex=\"-1\" class=\"navi-submenu__link\" href=\"/features/how-to-invest-a-million-dollars/\">Where to Invest $1 Million</a></li>\\n            </ul>\\n        \\n    \\n        \\n            Follow\\n            <ul class=\"navi-submenu__list\">\\n                <li class=\"navi-submenu__item\" role=\"listitem\" tabindex=\"-1\"><a tabindex=\"-1\" class=\"navi-submenu__link\" href=\"https://www.facebook.com/bloombergbusiness\">Facebook</a></li><li class=\"navi-submenu__item\" role=\"listitem\" tabindex=\"-1\"><a tabindex=\"-1\" class=\"navi-submenu__link\" href=\"https://twitter.com/business\">Twitter</a></li><li class=\"navi-submenu__item\" role=\"listitem\" tabindex=\"-1\"><a tabindex=\"-1\" class=\"navi-submenu__link\" href=\"https://www.instagram.com/bloombergbusiness/\">Instagram</a></li><li class=\"navi-submenu__item\" role=\"listitem\" tabindex=\"-1\"><a tabindex=\"-1\" class=\"navi-submenu__link\" href=\"https://www.linkedin.com/company/bloomberg/\">LinkedIn</a></li>\\n            </ul>\\n        \\n    \\n        </div>\\n    \\n                <div class=\"navi-submenu__close-column\">\\n                    \\n                </div>\\n            </div>\\n        </div>\\n    \\n        <div id=\"navi-submenu-markets\" class=\"navi-submenu navi-submenu--markets\" role=\"list\">\\n            <div class=\"navi-submenu__content\">\\n                \\n        <div class=\"navi-submenu__column\">\\n            \\n        \\n            Read\\n            <ul class=\"navi-submenu__list\">\\n                <li class=\"navi-submenu__item\" role=\"listitem\" tabindex=\"-1\"><a tabindex=\"-1\" class=\"navi-submenu__link\" href=\"/markets/economics\">Economics</a></li><li class=\"navi-submenu__item\" role=\"listitem\" tabindex=\"-1\"><a tabindex=\"-1\" class=\"navi-submenu__link\" href=\"/deals\">Deals</a></li><li class=\"navi-submenu__item\" role=\"listitem\" tabindex=\"-1\"><a tabindex=\"-1\" class=\"navi-submenu__link\" href=\"/markets/fixed-income\">The FIX | Fixed Income</a></li><li class=\"navi-submenu__item\" role=\"listitem\" tabindex=\"-1\"><a tabindex=\"-1\" class=\"navi-submenu__link\" href=\"/markets/etfs\">ETFs</a></li><li class=\"navi-submenu__item\" role=\"listitem\" tabindex=\"-1\"><a tabindex=\"-1\" class=\"navi-submenu__link\" href=\"/fx-center\">FX</a></li><li class=\"navi-submenu__item\" role=\"listitem\" tabindex=\"-1\"><a tabindex=\"-1\" class=\"navi-submenu__link\" href=\"/factor-investing\">Factor Investing</a></li><li class=\"navi-submenu__item\" role=\"listitem\" tabindex=\"-1\"><a tabindex=\"-1\" class=\"navi-submenu__link\" href=\"/markets/markets-magazine\">Markets Magazine</a></li>\\n            </ul>\\n        \\n    \\n        \\n            Watch\\n            <ul class=\"navi-submenu__list\">\\n                <li class=\"navi-submenu__item\" role=\"listitem\" tabindex=\"-1\"><a tabindex=\"-1\" class=\"navi-submenu__link\" href=\"/series/daybreak-americas\">Daybreak</a></li><li class=\"navi-submenu__item\" role=\"listitem\" tabindex=\"-1\"><a tabindex=\"-1\" class=\"navi-submenu__link\" href=\"/series/bloomberg-surveillance\">Surveillance</a></li><li class=\"navi-submenu__item\" role=\"listitem\" tabindex=\"-1\"><a tabindex=\"-1\" class=\"navi-submenu__link\" href=\"/series/bloomberg-markets\">Markets</a></li><li class=\"navi-submenu__item\" role=\"listitem\" tabindex=\"-1\"><a tabindex=\"-1\" class=\"navi-submenu__link\" href=\"/series/whatd-you-miss\">What\\'d You Miss</a></li><li class=\"navi-submenu__item\" role=\"listitem\" tabindex=\"-1\"><a tabindex=\"-1\" class=\"navi-submenu__link\" href=\"/real-yield?sref=E9HdhEsW\">Real Yield</a></li><li class=\"navi-submenu__item\" role=\"listitem\" tabindex=\"-1\"><a tabindex=\"-1\" class=\"navi-submenu__link\" href=\"/charting-futures\">Charting Futures</a></li><li class=\"navi-submenu__item\" role=\"listitem\" tabindex=\"-1\"><a tabindex=\"-1\" class=\"navi-submenu__link\" href=\"/futures-in-focus\">Futures in Focus</a></li>\\n            </ul>\\n        \\n    \\n        \\n            Follow\\n            <ul class=\"navi-submenu__list\">\\n                <li class=\"navi-submenu__item\" role=\"listitem\" tabindex=\"-1\"><a tabindex=\"-1\" class=\"navi-submenu__link\" href=\"https://twitter.com/markets\">Twitter</a></li><li class=\"navi-submenu__item\" role=\"listitem\" tabindex=\"-1\"><a tabindex=\"-1\" class=\"navi-submenu__link\" href=\"https://www.facebook.com/bloombergmarkets/\">Facebook</a></li>\\n            </ul>\\n        \\n    \\n        </div>\\n    \\n        <div class=\"navi-submenu__column\">\\n            \\n        \\n            Data\\n            <ul class=\"navi-submenu__list\">\\n                <li class=\"navi-submenu__item\" role=\"listitem\" tabindex=\"-1\"><a tabindex=\"-1\" class=\"navi-submenu__link\" href=\"/markets/stocks\">Stocks</a></li><li class=\"navi-submenu__item\" role=\"listitem\" tabindex=\"-1\"><a tabindex=\"-1\" class=\"navi-submenu__link\" href=\"/markets/currencies\">Currencies</a></li><li class=\"navi-submenu__item\" role=\"listitem\" tabindex=\"-1\"><a tabindex=\"-1\" class=\"navi-submenu__link\" href=\"/markets/commodities\">Commodities</a></li><li class=\"navi-submenu__item\" role=\"listitem\" tabindex=\"-1\"><a tabindex=\"-1\" class=\"navi-submenu__link\" href=\"/markets/rates-bonds\">Rates & Bonds</a></li><li class=\"navi-submenu__item\" role=\"listitem\" tabindex=\"-1\"><a tabindex=\"-1\" class=\"navi-submenu__link\" href=\"/markets/sectors\">Sectors</a></li><li class=\"navi-submenu__item\" role=\"listitem\" tabindex=\"-1\"><a tabindex=\"-1\" class=\"navi-submenu__link\" href=\"/markets/economic-calendar\">Economic Calendar</a></li>\\n            </ul>\\n        \\n    \\n        \\n            Listen\\n            <ul class=\"navi-submenu__list\">\\n                <li class=\"navi-submenu__item\" role=\"listitem\" tabindex=\"-1\"><a tabindex=\"-1\" class=\"navi-submenu__link\" href=\"/podcasts/what_goes_up\">What Goes Up</a></li><li class=\"navi-submenu__item\" role=\"listitem\" tabindex=\"-1\"><a tabindex=\"-1\" class=\"navi-submenu__link\" href=\"/podcasts/benchmark\">Stephanomics</a></li><li class=\"navi-submenu__item\" role=\"listitem\" tabindex=\"-1\"><a tabindex=\"-1\" class=\"navi-submenu__link\" href=\"/podcasts/odd_lots\">Odd Lots</a></li><li class=\"navi-submenu__item\" role=\"listitem\" tabindex=\"-1\"><a tabindex=\"-1\" class=\"navi-submenu__link\" href=\"/podcasts/surveillance\">Surveillance</a></li><li class=\"navi-submenu__item\" role=\"listitem\" tabindex=\"-1\"><a tabindex=\"-1\" class=\"navi-submenu__link\" href=\"/podcasts/taking_stock\">P&L</a></li><li class=\"navi-submenu__item\" role=\"listitem\" tabindex=\"-1\"><a tabindex=\"-1\" class=\"navi-submenu__link\" href=\"/podcasts/decrypted1\">Trillions</a></li>\\n            </ul>\\n        \\n    \\n        </div>\\n    \\n                <div class=\"navi-submenu__close-column\">\\n                    \\n                </div>\\n            </div>\\n        </div>\\n    \\n        <div id=\"navi-submenu-technology\" class=\"navi-submenu navi-submenu--technology\" role=\"list\">\\n            <div class=\"navi-submenu__content\">\\n                \\n        <div class=\"navi-submenu__column\">\\n            \\n        \\n            Read\\n            <ul class=\"navi-submenu__list\">\\n                <li class=\"navi-submenu__item\" role=\"listitem\" tabindex=\"-1\"><a tabindex=\"-1\" class=\"navi-submenu__link\" href=\"/future-of-work\">Work Shifting</a></li><li class=\"navi-submenu__item\" role=\"listitem\" tabindex=\"-1\"><a tabindex=\"-1\" class=\"navi-submenu__link\" href=\"/code-wars\">Code Wars</a></li><li class=\"navi-submenu__item\" role=\"listitem\" tabindex=\"-1\"><a tabindex=\"-1\" class=\"navi-submenu__link\" href=\"/topics/startups\">Startups</a></li><li class=\"navi-submenu__item\" role=\"listitem\" tabindex=\"-1\"><a tabindex=\"-1\" class=\"navi-submenu__link\" href=\"/topics/artificial-intelligence\">AI</a></li><li class=\"navi-submenu__item\" role=\"listitem\" tabindex=\"-1\"><a tabindex=\"-1\" class=\"navi-submenu__link\" href=\"/topics/mobile-phones\">Mobile</a></li><li class=\"navi-submenu__item\" role=\"listitem\" tabindex=\"-1\"><a tabindex=\"-1\" class=\"navi-submenu__link\" href=\"/topics/big-data\">Big Data</a></li><li class=\"navi-submenu__item\" role=\"listitem\" tabindex=\"-1\"><a tabindex=\"-1\" class=\"navi-submenu__link\" href=\"/topics/cloud-computing\">Cloud Computing</a></li><li class=\"navi-submenu__item\" role=\"listitem\" tabindex=\"-1\"><a tabindex=\"-1\" class=\"navi-submenu__link\" href=\"/topics/silicon-valley\">U.S.</a></li><li class=\"navi-submenu__item\" role=\"listitem\" tabindex=\"-1\"><a tabindex=\"-1\" class=\"navi-submenu__link\" href=\"/topics/global-tech\">Global</a></li>\\n            </ul>\\n        \\n    \\n        \\n            Special Reports\\n            <ul class=\"navi-submenu__list\">\\n                <li class=\"navi-submenu__item\" role=\"listitem\" tabindex=\"-1\"><a tabindex=\"-1\" class=\"navi-submenu__link\" href=\"/features/elon-musk-goals/\">The Elon Musk Tracker</a></li><li class=\"navi-submenu__item\" role=\"listitem\" tabindex=\"-1\"><a tabindex=\"-1\" class=\"navi-submenu__link\" href=\"/graphics/2018-tesla-tracker/\">Tesla Model 3 Tracker</a></li>\\n            </ul>\\n        \\n    \\n        </div>\\n    \\n        <div class=\"navi-submenu__column\">\\n            \\n        \\n            Watch\\n            <ul class=\"navi-submenu__list\">\\n                <li class=\"navi-submenu__item\" role=\"listitem\" tabindex=\"-1\"><a tabindex=\"-1\" class=\"navi-submenu__link\" href=\"/series/bloomberg-technology\">Bloomberg Technology TV</a></li><li class=\"navi-submenu__item\" role=\"listitem\" tabindex=\"-1\"><a tabindex=\"-1\" class=\"navi-submenu__link\" href=\"/series/studio-1\">Studio 1.0</a></li>\\n            </ul>\\n        \\n    \\n        \\n            Listen\\n            <ul class=\"navi-submenu__list\">\\n                <li class=\"navi-submenu__item\" role=\"listitem\" tabindex=\"-1\"><a tabindex=\"-1\" class=\"navi-submenu__link\" href=\"/podcasts/decrypted\">Decrypted</a></li>\\n            </ul>\\n        \\n    \\n        \\n            Follow\\n            <ul class=\"navi-submenu__list\">\\n                <li class=\"navi-submenu__item\" role=\"listitem\" tabindex=\"-1\"><a tabindex=\"-1\" class=\"navi-submenu__link\" href=\"https://twitter.com/technology\">Twitter</a></li><li class=\"navi-submenu__item\" role=\"listitem\" tabindex=\"-1\"><a tabindex=\"-1\" class=\"navi-submenu__link\" href=\"https://www.facebook.com/BloombergTechnology/\">Facebook</a></li>\\n            </ul>\\n        \\n    \\n        </div>\\n    \\n                <div class=\"navi-submenu__close-column\">\\n                    \\n                </div>\\n            </div>\\n        </div>\\n    \\n        <div id=\"navi-submenu-politics\" class=\"navi-submenu navi-submenu--politics\" role=\"list\">\\n            <div class=\"navi-submenu__content\">\\n                \\n        <div class=\"navi-submenu__column\">\\n            \\n        \\n            Read\\n            <ul class=\"navi-submenu__list\">\\n                <li class=\"navi-submenu__item\" role=\"listitem\" tabindex=\"-1\"><a tabindex=\"-1\" class=\"navi-submenu__link\" href=\"/election-2020\">Election 2020</a></li><li class=\"navi-submenu__item\" role=\"listitem\" tabindex=\"-1\"><a tabindex=\"-1\" class=\"navi-submenu__link\" href=\"/features/trump-daily/#!\">Trump Tracker</a></li><li class=\"navi-submenu__item\" role=\"listitem\" tabindex=\"-1\"><a tabindex=\"-1\" class=\"navi-submenu__link\" href=\"/graphics/global-trade-indicators/\">Global Trade Tracker</a></li>\\n            </ul>\\n        \\n    \\n        \\n            Listen\\n            <ul class=\"navi-submenu__list\">\\n                <li class=\"navi-submenu__item\" role=\"listitem\" tabindex=\"-1\"><a tabindex=\"-1\" class=\"navi-submenu__link\" href=\"/podcasts/sound_on\">Sound On</a></li><li class=\"navi-submenu__item\" role=\"listitem\" tabindex=\"-1\"><a tabindex=\"-1\" class=\"navi-submenu__link\" href=\"/podcasts/law\">Bloomberg Law</a></li>\\n            </ul>\\n        \\n    \\n        \\n            Watch\\n            <ul class=\"navi-submenu__list\">\\n                <li class=\"navi-submenu__item\" role=\"listitem\" tabindex=\"-1\"><a tabindex=\"-1\" class=\"navi-submenu__link\" href=\"/series/balance-of-power\">Balance of Power</a></li>\\n            </ul>\\n        \\n    \\n        </div>\\n    \\n        <div class=\"navi-submenu__column\">\\n            \\n        \\n            Subscribe\\n            <ul class=\"navi-submenu__list\">\\n                <li class=\"navi-submenu__item\" role=\"listitem\" tabindex=\"-1\"><a tabindex=\"-1\" class=\"navi-submenu__link\" href=\"http://link.mail.bloombergbusiness.com/join/4wm/politics-brief-signup&hash=b9b2681361bede0e1069ca238efb1ec2\">Balance of Power</a></li>\\n            </ul>\\n        \\n    \\n        \\n            Follow\\n            <ul class=\"navi-submenu__list\">\\n                <li class=\"navi-submenu__item\" role=\"listitem\" tabindex=\"-1\"><a tabindex=\"-1\" class=\"navi-submenu__link\" href=\"https://twitter.com/bpolitics\">Twitter</a></li><li class=\"navi-submenu__item\" role=\"listitem\" tabindex=\"-1\"><a tabindex=\"-1\" class=\"navi-submenu__link\" href=\"https://www.facebook.com/BloombergPolitics/\">Facebook</a></li>\\n            </ul>\\n        \\n    \\n        </div>\\n    \\n                <div class=\"navi-submenu__close-column\">\\n                    \\n                </div>\\n            </div>\\n        </div>\\n    \\n        <div id=\"navi-submenu-wealth\" class=\"navi-submenu navi-submenu--wealth\" role=\"list\">\\n            <div class=\"navi-submenu__content\">\\n                \\n        <div class=\"navi-submenu__column\">\\n            \\n        \\n            Read\\n            <ul class=\"navi-submenu__list\">\\n                <li class=\"navi-submenu__item\" role=\"listitem\" tabindex=\"-1\"><a tabindex=\"-1\" class=\"navi-submenu__link\" href=\"/wealth/investing\">Investing</a></li><li class=\"navi-submenu__item\" role=\"listitem\" tabindex=\"-1\"><a tabindex=\"-1\" class=\"navi-submenu__link\" href=\"/wealth/living\">Living</a></li><li class=\"navi-submenu__item\" role=\"listitem\" tabindex=\"-1\"><a tabindex=\"-1\" class=\"navi-submenu__link\" href=\"/wealth/opinion-and-advice\">Opinion & Advice</a></li><li class=\"navi-submenu__item\" role=\"listitem\" tabindex=\"-1\"><a tabindex=\"-1\" class=\"navi-submenu__link\" href=\"/wealth/savings-and-retirement\">Savings & Retirement</a></li><li class=\"navi-submenu__item\" role=\"listitem\" tabindex=\"-1\"><a tabindex=\"-1\" class=\"navi-submenu__link\" href=\"/wealth/taxes\">Taxes</a></li><li class=\"navi-submenu__item\" role=\"listitem\" tabindex=\"-1\"><a tabindex=\"-1\" class=\"navi-submenu__link\" href=\"/wealth/reinvention\">Reinvention</a></li>\\n            </ul>\\n        \\n    \\n        \\n            Watch\\n            <ul class=\"navi-submenu__list\">\\n                <li class=\"navi-submenu__item\" role=\"listitem\" tabindex=\"-1\"><a tabindex=\"-1\" class=\"navi-submenu__link\" href=\"/series/good-money\">Good Money</a></li>\\n            </ul>\\n        \\n    \\n        </div>\\n    \\n        <div class=\"navi-submenu__column\">\\n            \\n        \\n            Listen\\n            <ul class=\"navi-submenu__list\">\\n                <li class=\"navi-submenu__item\" role=\"listitem\" tabindex=\"-1\"><a tabindex=\"-1\" class=\"navi-submenu__link\" href=\"https://www.bloomberg.com/the-paycheck\">The Paycheck</a></li>\\n            </ul>\\n        \\n    \\n        \\n            Follow\\n            <ul class=\"navi-submenu__list\">\\n                <li class=\"navi-submenu__item\" role=\"listitem\" tabindex=\"-1\"><a tabindex=\"-1\" class=\"navi-submenu__link\" href=\"https://twitter.com/wealth\">Twitter</a></li><li class=\"navi-submenu__item\" role=\"listitem\" tabindex=\"-1\"><a tabindex=\"-1\" class=\"navi-submenu__link\" href=\"http://facebook.com/bloombergbusiness\">Facebook</a></li><li class=\"navi-submenu__item\" role=\"listitem\" tabindex=\"-1\"><a tabindex=\"-1\" class=\"navi-submenu__link\" href=\"https://www.instagram.com/bloombergbusiness\">Instagram</a></li>\\n            </ul>\\n        \\n    \\n        </div>\\n    \\n                <div class=\"navi-submenu__close-column\">\\n                    \\n                </div>\\n            </div>\\n        </div>\\n    \\n        <div id=\"navi-submenu-pursuits\" class=\"navi-submenu navi-submenu--pursuits\" role=\"list\">\\n            <div class=\"navi-submenu__content\">\\n                \\n        <div class=\"navi-submenu__column\">\\n            \\n        \\n            Read\\n            <ul class=\"navi-submenu__list\">\\n                <li class=\"navi-submenu__item\" role=\"listitem\" tabindex=\"-1\"><a tabindex=\"-1\" class=\"navi-submenu__link\" href=\"/pursuits/travel\">Travel</a></li><li class=\"navi-submenu__item\" role=\"listitem\" tabindex=\"-1\"><a tabindex=\"-1\" class=\"navi-submenu__link\" href=\"/pursuits/autos\">Autos</a></li><li class=\"navi-submenu__item\" role=\"listitem\" tabindex=\"-1\"><a tabindex=\"-1\" class=\"navi-submenu__link\" href=\"/pursuits/real-estate\">Homes</a></li><li class=\"navi-submenu__item\" role=\"listitem\" tabindex=\"-1\"><a tabindex=\"-1\" class=\"navi-submenu__link\" href=\"/pursuits/living\">Living</a></li><li class=\"navi-submenu__item\" role=\"listitem\" tabindex=\"-1\"><a tabindex=\"-1\" class=\"navi-submenu__link\" href=\"/pursuits/culture\">Culture</a></li><li class=\"navi-submenu__item\" role=\"listitem\" tabindex=\"-1\"><a tabindex=\"-1\" class=\"navi-submenu__link\" href=\"/pursuits/style\">Style</a></li>\\n            </ul>\\n        \\n    \\n        \\n            Special Reports\\n            <ul class=\"navi-submenu__list\">\\n                <li class=\"navi-submenu__item\" role=\"listitem\" tabindex=\"-1\"><a tabindex=\"-1\" class=\"navi-submenu__link\" href=\"/pursuits/property-listings\">Property Listings</a></li><li class=\"navi-submenu__item\" role=\"listitem\" tabindex=\"-1\"><a tabindex=\"-1\" class=\"navi-submenu__link\" href=\"/graphics/property-prices/london/\">London Property Prices</a></li><li class=\"navi-submenu__item\" role=\"listitem\" tabindex=\"-1\"><a tabindex=\"-1\" class=\"navi-submenu__link\" href=\"/graphics/property-prices/nyc/\">New York Property Prices</a></li><li class=\"navi-submenu__item\" role=\"listitem\" tabindex=\"-1\"><a tabindex=\"-1\" class=\"navi-submenu__link\" href=\"/news/features/2019-02-07/here-s-how-to-spend-this-year-s-bonus-as-if-it-is-your-last\">How to Spend Your Bonus</a></li>\\n            </ul>\\n        \\n    \\n        </div>\\n    \\n        <div class=\"navi-submenu__column\">\\n            \\n        \\n            Watch\\n            <ul class=\"navi-submenu__list\">\\n                <li class=\"navi-submenu__item\" role=\"listitem\" tabindex=\"-1\"><a tabindex=\"-1\" class=\"navi-submenu__link\" href=\"/made\">Made</a></li><li class=\"navi-submenu__item\" role=\"listitem\" tabindex=\"-1\"><a tabindex=\"-1\" class=\"navi-submenu__link\" href=\"/series/traveler\">Traveler</a></li><li class=\"navi-submenu__item\" role=\"listitem\" tabindex=\"-1\"><a tabindex=\"-1\" class=\"navi-submenu__link\" href=\"/series/invitation-only\">Invitation Only</a></li>\\n            </ul>\\n        \\n    \\n        \\n            Follow\\n            <ul class=\"navi-submenu__list\">\\n                <li class=\"navi-submenu__item\" role=\"listitem\" tabindex=\"-1\"><a tabindex=\"-1\" class=\"navi-submenu__link\" href=\"https://twitter.com/luxury\">Twitter</a></li><li class=\"navi-submenu__item\" role=\"listitem\" tabindex=\"-1\"><a tabindex=\"-1\" class=\"navi-submenu__link\" href=\"https://www.facebook.com/bloombergpursuits/\">Facebook</a></li><li class=\"navi-submenu__item\" role=\"listitem\" tabindex=\"-1\"><a tabindex=\"-1\" class=\"navi-submenu__link\" href=\"https://www.instagram.com/bloombergpursuits/\">Instagram</a></li>\\n            </ul>\\n        \\n    \\n        </div>\\n    \\n                <div class=\"navi-submenu__close-column\">\\n                    \\n                </div>\\n            </div>\\n        </div>\\n    \\n        <div id=\"navi-submenu-opinion\" class=\"navi-submenu navi-submenu--opinion\" role=\"list\">\\n            <div class=\"navi-submenu__content\">\\n                \\n        <div class=\"navi-submenu__column\">\\n            \\n        \\n            Read\\n            <ul class=\"navi-submenu__list\">\\n                <li class=\"navi-submenu__item\" role=\"listitem\" tabindex=\"-1\"><a tabindex=\"-1\" class=\"navi-submenu__link\" href=\"/authors/ASB62QVt-d0/the-editors\">Editorials</a></li>\\n            </ul>\\n        \\n    \\n        \\n            Follow\\n            <ul class=\"navi-submenu__list\">\\n                <li class=\"navi-submenu__item\" role=\"listitem\" tabindex=\"-1\"><a tabindex=\"-1\" class=\"navi-submenu__link\" href=\"https://twitter.com/bopinion\">Twitter</a></li><li class=\"navi-submenu__item\" role=\"listitem\" tabindex=\"-1\"><a tabindex=\"-1\" class=\"navi-submenu__link\" href=\"https://www.facebook.com/bloombergopinion\">Facebook</a></li><li class=\"navi-submenu__item\" role=\"listitem\" tabindex=\"-1\"><a tabindex=\"-1\" class=\"navi-submenu__link\" href=\"https://www.instagram.com/bloombergopinion/\">Instagram</a></li>\\n            </ul>\\n        \\n    \\n        </div>\\n    \\n        <div class=\"navi-submenu__column\">\\n            \\n        \\n            Listen\\n            <ul class=\"navi-submenu__list\">\\n                <li class=\"navi-submenu__item\" role=\"listitem\" tabindex=\"-1\"><a tabindex=\"-1\" class=\"navi-submenu__link\" href=\"/podcasts/masters_in_business\">Masters in Business</a></li>\\n            </ul>\\n        \\n    \\n        \\n            Subscribe\\n            <ul class=\"navi-submenu__list\">\\n                <li class=\"navi-submenu__item\" role=\"listitem\" tabindex=\"-1\"><a tabindex=\"-1\" class=\"navi-submenu__link\" href=\"http://link.mail.bloombergbusiness.com/join/4wm/opinion-signup&hash=b9b2681361bede0e1069ca238efb1ec2\">Bloomberg Opinion Today</a></li><li class=\"navi-submenu__item\" role=\"listitem\" tabindex=\"-1\"><a tabindex=\"-1\" class=\"navi-submenu__link\" href=\"http://link.mail.bloombergbusiness.com/join/4wm/moneystuff-signup&hash=b9b2681361bede0e1069ca238efb1ec2\">Money Stuff</a></li><li class=\"navi-submenu__item\" role=\"listitem\" tabindex=\"-1\"><a tabindex=\"-1\" class=\"navi-submenu__link\" href=\"http://link.mail.bloombergbusiness.com/join/4wm/ritholtz-reads-signup&hash=54223001ca3ffcf40f2629c25acea67a\">Ritholtz\\'s Reads</a></li><li class=\"navi-submenu__item\" role=\"listitem\" tabindex=\"-1\"><a tabindex=\"-1\" class=\"navi-submenu__link\" href=\"http://link.mail.bloombergbusiness.com/join/4wm/early-returns-signup&hash=54223001ca3ffcf40f2629c25acea67a\">Early Returns</a></li><li class=\"navi-submenu__item\" role=\"listitem\" tabindex=\"-1\"><a tabindex=\"-1\" class=\"navi-submenu__link\" href=\"http://link.mail.bloombergbusiness.com/join/4wm/sparklines-signup&hash=b9b2681361bede0e1069ca238efb1ec2\">Sparklines</a></li>\\n            </ul>\\n        \\n    \\n        </div>\\n    \\n                <div class=\"navi-submenu__close-column\">\\n                    \\n                </div>\\n            </div>\\n        </div>\\n    \\n        <div id=\"navi-submenu-businessweek\" class=\"navi-submenu navi-submenu--businessweek\" role=\"list\">\\n            <div class=\"navi-submenu__content\">\\n                \\n        <div class=\"navi-submenu__column\">\\n            \\n        \\n            Special Reports\\n            <ul class=\"navi-submenu__list\">\\n                <li class=\"navi-submenu__item\" role=\"listitem\" tabindex=\"-1\"><a tabindex=\"-1\" class=\"navi-submenu__link\" href=\"/sooner-than-you-think\">Sooner Than You Think</a></li><li class=\"navi-submenu__item\" role=\"listitem\" tabindex=\"-1\"><a tabindex=\"-1\" class=\"navi-submenu__link\" href=\"/business-of-equality\">Business of Equality</a></li><li class=\"navi-submenu__item\" role=\"listitem\" tabindex=\"-1\"><a tabindex=\"-1\" class=\"navi-submenu__link\" href=\"/the-year-ahead-2020\">The Year Ahead: 2020</a></li><li class=\"navi-submenu__item\" role=\"listitem\" tabindex=\"-1\"><a tabindex=\"-1\" class=\"navi-submenu__link\" href=\"/features/2019-bloomberg-50/\">The Bloomberg 50</a></li><li class=\"navi-submenu__item\" role=\"listitem\" tabindex=\"-1\"><a tabindex=\"-1\" class=\"navi-submenu__link\" href=\"/business-schools/\">Best B-Schools</a></li>\\n            </ul>\\n        \\n    \\n        \\n            Watch\\n            <ul class=\"navi-submenu__list\">\\n                <li class=\"navi-submenu__item\" role=\"listitem\" tabindex=\"-1\"><a tabindex=\"-1\" class=\"navi-submenu__link\" href=\"/series/hello-world\">Hello World</a></li>\\n            </ul>\\n        \\n    \\n        </div>\\n    \\n        <div class=\"navi-submenu__column\">\\n            \\n        \\n            The Magazine\\n            <ul class=\"navi-submenu__list\">\\n                <li class=\"navi-submenu__item\" role=\"listitem\" tabindex=\"-1\"><a tabindex=\"-1\" class=\"navi-submenu__link\" href=\"https://subscribe.businessweek.com/servlet/OrdersGateway?cds_mag_code=BWK&cds_page_id=223855&in_source=bbw-menu\">Subscribe</a></li>\\n            </ul>\\n        \\n    \\n        \\n            Follow\\n            <ul class=\"navi-submenu__list\">\\n                <li class=\"navi-submenu__item\" role=\"listitem\" tabindex=\"-1\"><a tabindex=\"-1\" class=\"navi-submenu__link\" href=\"https://twitter.com/BW\">Twitter</a></li><li class=\"navi-submenu__item\" role=\"listitem\" tabindex=\"-1\"><a tabindex=\"-1\" class=\"navi-submenu__link\" href=\"https://www.facebook.com/bloombergbusinessweek/\">Facebook</a></li><li class=\"navi-submenu__item\" role=\"listitem\" tabindex=\"-1\"><a tabindex=\"-1\" class=\"navi-submenu__link\" href=\"https://www.instagram.com/businessweek/?hl=en\">Instagram</a></li>\\n            </ul>\\n        \\n    \\n        </div>\\n    \\n                <div class=\"navi-submenu__close-column\">\\n                    \\n                </div>\\n            </div>\\n        </div>\\n    \\n        <div id=\"navi-submenu-neweconomy\" class=\"navi-submenu navi-submenu--neweconomy\" role=\"list\">\\n            <div class=\"navi-submenu__content\">\\n                \\n        <div class=\"navi-submenu__column\">\\n            \\n        \\n            Watch\\n            <ul class=\"navi-submenu__list\">\\n                <li class=\"navi-submenu__item\" role=\"listitem\" tabindex=\"-1\"><a tabindex=\"-1\" class=\"navi-submenu__link\" href=\"https://www.neweconomyforum.com/events/\">New Economy Conversation Series</a></li>\\n            </ul>\\n        \\n    \\n        \\n            Listen\\n            <ul class=\"navi-submenu__list\">\\n                <li class=\"navi-submenu__item\" role=\"listitem\" tabindex=\"-1\"><a tabindex=\"-1\" class=\"navi-submenu__link\" href=\"https://www.bloomberg.com/stephanomics\">Stephanomics</a></li>\\n            </ul>\\n        \\n    \\n        \\n            Subscribe\\n            <ul class=\"navi-submenu__list\">\\n                <li class=\"navi-submenu__item\" role=\"listitem\" tabindex=\"-1\"><a tabindex=\"-1\" class=\"navi-submenu__link\" href=\"http://link.mail.bloombergbusiness.com/join/4wm/turningpoints&hash=b9b2681361bede0e1069ca238efb1ec2\">Turning Points</a></li>\\n            </ul>\\n        \\n    \\n        \\n            Follow\\n            <ul class=\"navi-submenu__list\">\\n                <li class=\"navi-submenu__item\" role=\"listitem\" tabindex=\"-1\"><a tabindex=\"-1\" class=\"navi-submenu__link\" href=\"https://twitter.com/neweconforum\">Twitter</a></li><li class=\"navi-submenu__item\" role=\"listitem\" tabindex=\"-1\"><a tabindex=\"-1\" class=\"navi-submenu__link\" href=\"https://www.facebook.com/neweconforum/\">Facebook</a></li><li class=\"navi-submenu__item\" role=\"listitem\" tabindex=\"-1\"><a tabindex=\"-1\" class=\"navi-submenu__link\" href=\"https://www.neweconomyforum.com\">New Economy Forum</a></li>\\n            </ul>\\n        \\n    \\n        </div>\\n    \\n                <div class=\"navi-submenu__close-column\">\\n                    \\n                </div>\\n            </div>\\n        </div>\\n    \\n        <div id=\"navi-submenu-green\" class=\"navi-submenu navi-submenu--green\" role=\"list\">\\n            <div class=\"navi-submenu__content\">\\n                \\n        <div class=\"navi-submenu__column\">\\n            \\n        \\n            Read\\n            <ul class=\"navi-submenu__list\">\\n                <li class=\"navi-submenu__item\" role=\"listitem\" tabindex=\"-1\"><a tabindex=\"-1\" class=\"navi-submenu__link\" href=\"/green-energy-science\">Science & Energy</a></li><li class=\"navi-submenu__item\" role=\"listitem\" tabindex=\"-1\"><a tabindex=\"-1\" class=\"navi-submenu__link\" href=\"/green-climate-adaptation\">Climate Adaptation</a></li><li class=\"navi-submenu__item\" role=\"listitem\" tabindex=\"-1\"><a tabindex=\"-1\" class=\"navi-submenu__link\" href=\"/green-finance\">Finance</a></li><li class=\"navi-submenu__item\" role=\"listitem\" tabindex=\"-1\"><a tabindex=\"-1\" class=\"navi-submenu__link\" href=\"/green-politics\">Politics</a></li><li class=\"navi-submenu__item\" role=\"listitem\" tabindex=\"-1\"><a tabindex=\"-1\" class=\"navi-submenu__link\" href=\"/green-culture-design\">Culture & Design</a></li>\\n            </ul>\\n        \\n    \\n        \\n            Special Reports\\n            <ul class=\"navi-submenu__list\">\\n                <li class=\"navi-submenu__item\" role=\"listitem\" tabindex=\"-1\"><a tabindex=\"-1\" class=\"navi-submenu__link\" href=\"https://www.bloomberg.com/graphics/climate-change-data-green/\">Data Dash</a></li>\\n            </ul>\\n        \\n    \\n        </div>\\n    \\n        <div class=\"navi-submenu__column\">\\n            \\n        \\n            Subscribe\\n            <ul class=\"navi-submenu__list\">\\n                <li class=\"navi-submenu__item\" role=\"listitem\" tabindex=\"-1\"><a tabindex=\"-1\" class=\"navi-submenu__link\" href=\"https://www.bloomberg.com/newsletters/green-daily/latest\">Daily newsletter</a></li>\\n            </ul>\\n        \\n    \\n        \\n            Follow\\n            <ul class=\"navi-submenu__list\">\\n                <li class=\"navi-submenu__item\" role=\"listitem\" tabindex=\"-1\"><a tabindex=\"-1\" class=\"navi-submenu__link\" href=\"https://twitter.com/climate\">Twitter</a></li><li class=\"navi-submenu__item\" role=\"listitem\" tabindex=\"-1\"><a tabindex=\"-1\" class=\"navi-submenu__link\" href=\"https://www.facebook.com/bloomberggreen\">Facebook</a></li><li class=\"navi-submenu__item\" role=\"listitem\" tabindex=\"-1\"><a tabindex=\"-1\" class=\"navi-submenu__link\" href=\"https://www.instagram.com/bloomberggreen/\">Instagram</a></li>\\n            </ul>\\n        \\n    \\n        </div>\\n    \\n                <div class=\"navi-submenu__close-column\">\\n                    \\n                </div>\\n            </div>\\n        </div>\\n    \\n        <div id=\"navi-submenu-citylab\" class=\"navi-submenu navi-submenu--citylab\" role=\"list\">\\n            <div class=\"navi-submenu__content\">\\n                \\n        <div class=\"navi-submenu__column\">\\n            \\n        \\n            Read\\n            <ul class=\"navi-submenu__list\">\\n                <li class=\"navi-submenu__item\" role=\"listitem\" tabindex=\"-1\"><a tabindex=\"-1\" class=\"navi-submenu__link\" href=\"/citylab/design\">Design</a></li><li class=\"navi-submenu__item\" role=\"listitem\" tabindex=\"-1\"><a tabindex=\"-1\" class=\"navi-submenu__link\" href=\"/citylab/culture\">Culture</a></li><li class=\"navi-submenu__item\" role=\"listitem\" tabindex=\"-1\"><a tabindex=\"-1\" class=\"navi-submenu__link\" href=\"/citylab/transportation\">Transportation</a></li><li class=\"navi-submenu__item\" role=\"listitem\" tabindex=\"-1\"><a tabindex=\"-1\" class=\"navi-submenu__link\" href=\"/citylab/economy\">Economy</a></li><li class=\"navi-submenu__item\" role=\"listitem\" tabindex=\"-1\"><a tabindex=\"-1\" class=\"navi-submenu__link\" href=\"/citylab/environment\">Environment</a></li><li class=\"navi-submenu__item\" role=\"listitem\" tabindex=\"-1\"><a tabindex=\"-1\" class=\"navi-submenu__link\" href=\"/citylab/housing\">Housing</a></li><li class=\"navi-submenu__item\" role=\"listitem\" tabindex=\"-1\"><a tabindex=\"-1\" class=\"navi-submenu__link\" href=\"/citylab/justice\">Justice</a></li><li class=\"navi-submenu__item\" role=\"listitem\" tabindex=\"-1\"><a tabindex=\"-1\" class=\"navi-submenu__link\" href=\"/citylab/government\">Government</a></li>\\n            </ul>\\n        \\n    \\n        </div>\\n    \\n        <div class=\"navi-submenu__column\">\\n            \\n        \\n            Subscribe\\n            <ul class=\"navi-submenu__list\">\\n                <li class=\"navi-submenu__item\" role=\"listitem\" tabindex=\"-1\"><a tabindex=\"-1\" class=\"navi-submenu__link\" href=\"http://link.mail.bloombergbusiness.com/join/4wm/citylab-daily\">Daily newsletter</a></li>\\n            </ul>\\n        \\n    \\n        \\n            Follow\\n            <ul class=\"navi-submenu__list\">\\n                <li class=\"navi-submenu__item\" role=\"listitem\" tabindex=\"-1\"><a tabindex=\"-1\" class=\"navi-submenu__link\" href=\"https://twitter.com/CityLab\">Twitter</a></li><li class=\"navi-submenu__item\" role=\"listitem\" tabindex=\"-1\"><a tabindex=\"-1\" class=\"navi-submenu__link\" href=\"https://www.facebook.com/thisiscitylab\">Facebook</a></li><li class=\"navi-submenu__item\" role=\"listitem\" tabindex=\"-1\"><a tabindex=\"-1\" class=\"navi-submenu__link\" href=\"https://www.instagram.com/citylab\">Instagram</a></li><li class=\"navi-submenu__item\" role=\"listitem\" tabindex=\"-1\"><a tabindex=\"-1\" class=\"navi-submenu__link\" href=\"https://www.linkedin.com/company/citylab-com\">LinkedIn</a></li>\\n            </ul>\\n        \\n    \\n        </div>\\n    \\n                <div class=\"navi-submenu__close-column\">\\n                    \\n                </div>\\n            </div>\\n        </div>\\n    \\n        <div id=\"navi-submenu-video\" class=\"navi-submenu navi-submenu--video\" role=\"list\">\\n            <div class=\"navi-submenu__content\">\\n                \\n        <div class=\"navi-submenu__column\">\\n            \\n        \\n            Watch Live TV\\n            <ul class=\"navi-submenu__list\">\\n                <li class=\"navi-submenu__item\" role=\"listitem\" tabindex=\"-1\"><a tabindex=\"-1\" class=\"navi-submenu__link\" href=\"/live/us\">US</a></li><li class=\"navi-submenu__item\" role=\"listitem\" tabindex=\"-1\"><a tabindex=\"-1\" class=\"navi-submenu__link\" href=\"/live/europe\">Europe</a></li><li class=\"navi-submenu__item\" role=\"listitem\" tabindex=\"-1\"><a tabindex=\"-1\" class=\"navi-submenu__link\" href=\"/live/asia\">Asia</a></li><li class=\"navi-submenu__item\" role=\"listitem\" tabindex=\"-1\"><a tabindex=\"-1\" class=\"navi-submenu__link\" href=\"/live/australia\">Australia</a></li><li class=\"navi-submenu__item\" role=\"listitem\" tabindex=\"-1\"><a tabindex=\"-1\" class=\"navi-submenu__link\" href=\"/live/schedule-shows\">Schedule+Shows</a></li>\\n            </ul>\\n        \\n    \\n        \\n            Shows\\n            <ul class=\"navi-submenu__list\">\\n                <li class=\"navi-submenu__item\" role=\"listitem\" tabindex=\"-1\"><a tabindex=\"-1\" class=\"navi-submenu__link\" href=\"/series/bloomberg-surveillance\">Surveillance</a></li><li class=\"navi-submenu__item\" role=\"listitem\" tabindex=\"-1\"><a tabindex=\"-1\" class=\"navi-submenu__link\" href=\"/series/daybreak-americas\">Daybreak</a></li><li class=\"navi-submenu__item\" role=\"listitem\" tabindex=\"-1\"><a tabindex=\"-1\" class=\"navi-submenu__link\" href=\"/series/bloomberg-markets\">Markets</a></li><li class=\"navi-submenu__item\" role=\"listitem\" tabindex=\"-1\"><a tabindex=\"-1\" class=\"navi-submenu__link\" href=\"/series/balance-of-power\">Balance of Power</a></li><li class=\"navi-submenu__item\" role=\"listitem\" tabindex=\"-1\"><a tabindex=\"-1\" class=\"navi-submenu__link\" href=\"/series/whatd-you-miss\">What\\'d You Miss?</a></li><li class=\"navi-submenu__item\" role=\"listitem\" tabindex=\"-1\"><a tabindex=\"-1\" class=\"navi-submenu__link\" href=\"/series/bloomberg-technology\">Bloomberg Technology</a></li><li class=\"navi-submenu__item\" role=\"listitem\" tabindex=\"-1\"><a tabindex=\"-1\" class=\"navi-submenu__link\" href=\"/live/shows\">All Shows...</a></li>\\n            </ul>\\n        \\n    \\n        </div>\\n    \\n        <div class=\"navi-submenu__column\">\\n            \\n        \\n            Series\\n            <ul class=\"navi-submenu__list\">\\n                <li class=\"navi-submenu__item\" role=\"listitem\" tabindex=\"-1\"><a tabindex=\"-1\" class=\"navi-submenu__link\" href=\"/next-jobs\">Next Jobs</a></li><li class=\"navi-submenu__item\" role=\"listitem\" tabindex=\"-1\"><a tabindex=\"-1\" class=\"navi-submenu__link\" href=\"/series/hello-world\">Hello World</a></li><li class=\"navi-submenu__item\" role=\"listitem\" tabindex=\"-1\"><a tabindex=\"-1\" class=\"navi-submenu__link\" href=\"/series/storylines\">Storylines</a></li><li class=\"navi-submenu__item\" role=\"listitem\" tabindex=\"-1\"><a tabindex=\"-1\" class=\"navi-submenu__link\" href=\"/series/game-changers\">Game Changers</a></li><li class=\"navi-submenu__item\" role=\"listitem\" tabindex=\"-1\"><a tabindex=\"-1\" class=\"navi-submenu__link\" href=\"/series/profiles\">Profiles</a></li><li class=\"navi-submenu__item\" role=\"listitem\" tabindex=\"-1\"><a tabindex=\"-1\" class=\"navi-submenu__link\" href=\"/series/traveler\">Traveler</a></li><li class=\"navi-submenu__item\" role=\"listitem\" tabindex=\"-1\"><a tabindex=\"-1\" class=\"navi-submenu__link\" href=\"/south-korea-travel\">Journey Through South Korea</a></li><li class=\"navi-submenu__item\" role=\"listitem\" tabindex=\"-1\"><a tabindex=\"-1\" class=\"navi-submenu__link\" href=\"/digitaloriginals\">All Series</a></li>\\n            </ul>\\n        \\n    \\n        \\n            Follow\\n            <ul class=\"navi-submenu__list\">\\n                <li class=\"navi-submenu__item\" role=\"listitem\" tabindex=\"-1\"><a tabindex=\"-1\" class=\"navi-submenu__link\" href=\"/tictoc\">QuickTake</a></li><li class=\"navi-submenu__item\" role=\"listitem\" tabindex=\"-1\"><a tabindex=\"-1\" class=\"navi-submenu__link\" href=\"https://www.youtube.com/user/Bloomberg\">YouTube</a></li><li class=\"navi-submenu__item\" role=\"listitem\" tabindex=\"-1\"><a tabindex=\"-1\" class=\"navi-submenu__link\" href=\"https://twitter.com/BloombergTV\">Twitter</a></li><li class=\"navi-submenu__item\" role=\"listitem\" tabindex=\"-1\"><a tabindex=\"-1\" class=\"navi-submenu__link\" href=\"https://www.facebook.com/BloombergTelevision/\">Facebook</a></li>\\n            </ul>\\n        \\n    \\n        </div>\\n    \\n                <div class=\"navi-submenu__close-column\">\\n                    \\n                </div>\\n            </div>\\n        </div>\\n    \\n        <div id=\"navi-submenu-podcasts\" class=\"navi-submenu navi-submenu--podcasts\" role=\"list\">\\n            <div class=\"navi-submenu__content\">\\n                \\n        <div class=\"navi-submenu__column\">\\n            \\n        \\n            Listen\\n            <ul class=\"navi-submenu__list\">\\n                <li class=\"navi-submenu__item\" role=\"listitem\" tabindex=\"-1\"><a tabindex=\"-1\" class=\"navi-submenu__link\" href=\"/podcasts/what_goes_up\">What Goes Up</a></li><li class=\"navi-submenu__item\" role=\"listitem\" tabindex=\"-1\"><a tabindex=\"-1\" class=\"navi-submenu__link\" href=\"/stephanomics\">Stephanomics</a></li><li class=\"navi-submenu__item\" role=\"listitem\" tabindex=\"-1\"><a tabindex=\"-1\" class=\"navi-submenu__link\" href=\"/podcasts/odd_lots\">Odd Lots</a></li><li class=\"navi-submenu__item\" role=\"listitem\" tabindex=\"-1\"><a tabindex=\"-1\" class=\"navi-submenu__link\" href=\"/podcasts/decrypted\">Decrypted</a></li><li class=\"navi-submenu__item\" role=\"listitem\" tabindex=\"-1\"><a tabindex=\"-1\" class=\"navi-submenu__link\" href=\"/podcasts/masters_in_business\">Masters in Business</a></li><li class=\"navi-submenu__item\" role=\"listitem\" tabindex=\"-1\"><a tabindex=\"-1\" class=\"navi-submenu__link\" href=\"/podcasts/surveillance\">Surveillance</a></li><li class=\"navi-submenu__item\" role=\"listitem\" tabindex=\"-1\"><a tabindex=\"-1\" class=\"navi-submenu__link\" href=\"/podcasts/taking_stock\">P&L</a></li><li class=\"navi-submenu__item\" role=\"listitem\" tabindex=\"-1\"><a tabindex=\"-1\" class=\"navi-submenu__link\" href=\"/podcasts/advantage\">Businessweek</a></li><li class=\"navi-submenu__item\" role=\"listitem\" tabindex=\"-1\"><a tabindex=\"-1\" class=\"navi-submenu__link\" href=\"/the-paycheck\">The Pay Check</a></li><li class=\"navi-submenu__item\" role=\"listitem\" tabindex=\"-1\"><a tabindex=\"-1\" class=\"navi-submenu__link\" href=\"/prognosis-podcast\">Prognosis</a></li><li class=\"navi-submenu__item\" role=\"listitem\" tabindex=\"-1\"><a tabindex=\"-1\" class=\"navi-submenu__link\" href=\"/travel-genius\">Travel Genius</a></li><li class=\"navi-submenu__item\" role=\"listitem\" tabindex=\"-1\"><a tabindex=\"-1\" class=\"navi-submenu__link\" href=\"/works-for-me\">Works for Me</a></li><li class=\"navi-submenu__item\" role=\"listitem\" tabindex=\"-1\"><a tabindex=\"-1\" class=\"navi-submenu__link\" href=\"/podcasts/decrypted1\">Trillions</a></li><li class=\"navi-submenu__item\" role=\"listitem\" tabindex=\"-1\"><a tabindex=\"-1\" class=\"navi-submenu__link\" href=\"/podcasts\">All Podcasts&#8230;</a></li><li class=\"navi-submenu__item\" role=\"listitem\" tabindex=\"-1\"><a tabindex=\"-1\" class=\"navi-submenu__link\" href=\"/audio/shows\">All Radio Shows&#8230;</a></li>\\n            </ul>\\n        \\n    \\n        </div>\\n    \\n                <div class=\"navi-submenu__close-column\">\\n                    \\n                </div>\\n            </div>\\n        </div>\\n    \\n            </div>\\n        </div>\\n    \\n            \\n            <div class=\"navi-breaking-news\" data-regions=\"global regional\" data-show-on-target-page=\"true\"></div>\\n            <div class=\"navi-push-notification-prompt\"></div>\\n            \\n                <div id=\"skip-to-main-content\" style=\"height: 0; width: 0;\"></div>\\n    <div id=\"that-jump-content\" style=\"height: 0; width: 0;\"></div>\\n                \\n                    <div class=\"transporter-item current\" tabindex=\"-1\">\\n                        \\n            \\n                \\n                \\n                \\n                \\n                \\n                \\n                \\n                <div class=\"lede-large-image-v2\">\\n            <div class=\"bg-crop bg-crop-1200x-1\">\\n                <div class=\"lede-large-image-v2__image\" style=\"background-image: url(\\'https://assets.bwbx.io/images/users/iqjWHBFdfxIU/i7.33n7RoSp0/v0/1200x-1.jpg\\')\"></div>\\n            </div>\\n            <div class=\"bg-crop bg-crop-2000x-1\">\\n                <div class=\"lede-large-image-v2__image\" style=\"background-image: url(\\'https://assets.bwbx.io/images/users/iqjWHBFdfxIU/i7.33n7RoSp0/v0/-1x-1.jpg\\')\"></div>\\n            </div>\\n            <div class=\"bg-crop bg-crop--1x-1\">\\n                <div class=\"lede-large-image-v2__image\" style=\"background-image: url(\\'https://assets.bwbx.io/images/users/iqjWHBFdfxIU/i7.33n7RoSp0/v0/-1x-1.jpg\\')\"></div>\\n            </div>\\n            <div class=\"lede-large-image-v2__credit\">Photographer: Carla Gottgens/Bloomberg</div>\\n        </div>\\n                \\n                <div class=\"article-content\">\\n                    <div class=\"lede-wrap\">\\n                        <div class=\"lede-text-v2 lede\">\\n        <div class=\"lede-text-v2__container\">\\n            <div class=\"lede-text-v2__content\">\\n                <div class=\"eyebrow-v2\">prognosis</div>\\n                <h1 class=\"lede-text-v2__hed\">After Crushing Covid, Melbourne Emerges Wary and More Sedate</h1>\\n                \\n                By <div class=\"author-v2\">\\n        <a class=\"author-v2__byline\" href=\"https://www.bloomberg.com/authors/ADGG8ClBt6s/jason-gale\" rel=\"author\">Jason Gale</a>\\n    </div> and <div class=\"author-v2\">\\n        <a class=\"author-v2__byline\" href=\"https://www.bloomberg.com/authors/ATIbpAZT6wA/matthew-burgess\" rel=\"author\">Matthew Burgess</a>\\n    </div>\\n                <div class=\"lede-text-v2__times\">\\n                    \\n        \\n            November 7, 2020, 12:25 PM EST\\n        \\n    \\n                    \\n        \\n            \\n                Updated on\\n            \\n            \\n                November 8, 2020, 5:55 PM EST\\n            \\n        \\n    \\n                </div>\\n            </div>\\n        </div>\\n    </div>\\n                        \\n            <div class=\"text-to-speech-mobile__runtime\" data-duration=\"343667\">5:44</div>\\n            \\n                \\n            \\n        \\n                    </div>\\n                    <div class=\"gateway-mobile-lede-text lede\">\\n        <div class=\"gateway-mobile-lede-text__container\">\\n            <div class=\"gateway-mobile-lede-text__content\">\\n                <h1 class=\"gateway-mobile-lede-text__hed\">After Crushing Covid, Melbourne Emerges Wary and More Sedate</h1>\\n                \\n                By <div class=\"author-v2\">\\n        <a class=\"author-v2__byline\" href=\"https://www.bloomberg.com/authors/ADGG8ClBt6s/jason-gale\" rel=\"author\">Jason Gale</a>\\n    </div> and <div class=\"author-v2\">\\n        <a class=\"author-v2__byline\" href=\"https://www.bloomberg.com/authors/ATIbpAZT6wA/matthew-burgess\" rel=\"author\">Matthew Burgess</a>\\n    </div><div class=\"gateway-mobile-lede-text__byline gateway-mobile-lede-text__spacer\">, </div><div class=\"gateway-mobile-lede-text__times\">\\n        \\n            November 7, 2020, 12:25 PM EST\\n        \\n    </div>\\n            </div>\\n        </div>\\n    </div>\\n                    <div class=\"content-well-v2\">\\n                        \\n                            <ul class=\"abstract-v2\">\\n        \\n        <li class=\"abstract-v2__item\">\\n            <div class=\"abstract-v2__item-text\">\\n                Australians sacrifice short-term freedom to banish coronavirus\\n            </div>\\n        </li>\\n        <li class=\"abstract-v2__item\">\\n            <div class=\"abstract-v2__item-text\">\\n                Melbourne, once Covid hotspot, reports no cases since Oct. 29\\n            </div>\\n        </li>\\n    </ul>\\n                            \\n                            <div class=\"body-columns\">\\n                                <div class=\"middle-column\">\\n                                    <div class=\"body-copy-v2 fence-body\">\\n            \\n        \\n            \\n            \\n            \\n            <div class=\"text-to-speech\">\\n            <h2 class=\"text-to-speech__label\">LISTEN TO ARTICLE</h2>\\n            <div class=\"text-to-speech__controls\">\\n                \\n                <div class=\"text-to-speech__runtime\" data-duration=\"343667\">5:44</div>\\n            </div>\\n            \\n                \\n            \\n        </div>\\n            <div class=\"share-article-button\">\\n            <h2 class=\"share-article-button__label\">SHARE THIS ARTICLE</h2>\\n            <div class=\"share-article-button__option\"><a href=https://www.facebook.com/sharer/sharer.php?u=https%3A%2F%2Fwww.bloomberg.com%2Fnews%2Farticles%2F2020-11-07%2Fafter-crushing-covid-melbourne-emerges-wary-and-more-sedate class=share-article-button__link rel=nofollow data-new-window aria-label=\"Share this article on Facebook (opens in a new window)\">\\n                <div class=\"share-article-button__icon share-article-button__icon-facebook\"></div>Share\\n            </a></div>\\n            <div class=\"share-article-button__option\"><a href=https://twitter.com/share?text=Melbourne%20has%20gone%20more%20than%20a%20week%20without%20any%20reported%20Covid-19%20cases%2C%20and%20the%20majority%20of%20its%205%20million%20residents%20aren%E2%80%99t%20taking%20chances&via=business&url=https%3A%2F%2Fwww.bloomberg.com%2Fnews%2Farticles%2F2020-11-07%2Fafter-crushing-covid-melbourne-emerges-wary-and-more-sedate class=share-article-button__link rel=nofollow data-new-window aria-label=\"Share this article on Twitter (opens in a new window)\">\\n                <div class=\"share-article-button__icon share-article-button__icon-twitter\"></div>Tweet\\n            </a></div>\\n            <div class=\"share-article-button__option\"><a href=https://www.linkedin.com/shareArticle?mini=true&title=After%20Crushing%20Covid%2C%20Melbourne%20Emerges%20Wary%20and%20More%20Sedate&summary=Melbourne%20has%20gone%2010%20days%20without%20any%20reported%20Covid-19%20cases%2C%20and%20the%20majority%20of%20its%205%20million%20residents%20aren%E2%80%99t%20taking%20chances.&url=https%3A%2F%2Fwww.bloomberg.com%2Fnews%2Farticles%2F2020-11-07%2Fafter-crushing-covid-melbourne-emerges-wary-and-more-sedate class=share-article-button__link rel=nofollow data-new-window aria-label=\"Share this article on LinkedIn (opens in a new window)\">\\n                <div class=\"share-article-button__icon share-article-button__icon-linkedin\"></div>Post\\n            </a></div>\\n            <div class=\"share-article-button__option\"><a href=mailto:?subject=After%20Crushing%20Covid%2C%20Melbourne%20Emerges%20Wary%20and%20More%20Sedate%20-%20Bloomberg&body=After%20Crushing%20Covid%2C%20Melbourne%20Emerges%20Wary%20and%20More%20Sedate%0D%0A%0D%0Aby%20Jason%20Gale%20and%20Matthew%20Burgess%0D%0A%0D%0AMelbourne%20has%20gone%2010%20days%20without%20any%20reported%20Covid-19%20cases%2C%20and%20the%20majority%20of%20its%205%20million%20residents%20aren%E2%80%99t%20taking%20chances.%0D%0A%0D%0Ahttps%3A%2F%2Fwww.bloomberg.com%2Fnews%2Farticles%2F2020-11-07%2Fafter-crushing-covid-melbourne-emerges-wary-and-more-sedate class=share-article-button__link rel=nofollow aria-label=\"Share this article via email (opens native email client)\">\\n                <div class=\"share-article-button__icon share-article-button__icon-email\"></div>Email\\n            </a></div>\\n        </div>\\n            <div id=\"brokerboxarticle-m8QmKOv\" class=\"brokerboxarticle page-ad hide-ad\" data-position=\"brokerboxarticle\">\\n        \\n    </div>\\n        \\n    \\n            \\n            \\n    \\n        <div class=\"image\" tabindex=\"0\" role=\"button\" aria-label=\"Open image in viewer\">\\n            Melbourne Emerges From Lockdown That Crushes Infection Curve But With Huge Economic Cost\\n            \\n    \\n        \\n        <div class=\"credit\">Photographer: Carla Gottgens/Bloomberg</div>\\n    \\n    \\n        </div>\\n        \\n    <div class=\"first-paragraph-image__credit\">\\n        <div class=\"first-paragraph-image__credit-icon\"></div>\\n        <div class=\"first-paragraph-image__credit-text credit\">Photographer: Carla Gottgens/Bloomberg</div>\\n    </div>\\n    \\n    \\n    <p>We&apos;re tracking the latest on the coronavirus outbreak and the global response. <a href=\"http://link.mail.bloombergbusiness.com/join/4wm/coronavirus-signup?source=article\" itemprop=\"StoryLink\" itemscope=\"itemscope\" target=\"_blank\" rel=\"nofollow noopener\"><meta content=\"WebLink\" itemprop=\"type\">Sign up here</a> for our daily newsletter on what you need to know.</p><div class=\"hardwall\" data-position=\"1\"></div><div class=\"softwall\" data-position=\"1\"></div><p>Melbourne has gone 10 days without any reported Covid-19 cases, and the majority of its 5 million residents aren&#x2019;t taking chances.</p><div class=\"hardwall\" data-position=\"2\"></div><div class=\"softwall\" data-position=\"2\"></div>\\n        <div id=\"outstream-video-1-QJD6URDWRGG101\" class=\"outstream-ad\" data-position=\"outstream-video\">\\n            \\n            <div class=\"outstream-video-ad-dummy\"></div>\\n        </div>\\n        \\n        <div id=\"outstream-video-2-QJD6URDWRGG101\" class=\"outstream-ad\" data-position=\"outstream-video\">\\n            \\n            <div class=\"outstream-video-ad-dummy\"></div>\\n        </div>\\n        <p>They are emerging cautiously from a 16-week lockdown that health experts say has helped put the city, and possibly the entire country, on track to eliminate the coronavirus. The <a href=\"https://www.cupweek2020.com.au/about/covid-19-update-attendance-at-2020-melbourne-cup-carnival/\" itemprop=\"StoryLink\" itemscope=\"itemscope\" title=\"Link to statement\" target=\"_blank\" rel=\"nofollow noopener\"><meta itemprop=\"type\" content=\"WebLink\">Melbourne Cup</a> horse race -- known locally as the &#x201C;race that stops the nation&#x201D; -- was held Tuesday without spectators, while people go about their daily activities in mandatory masks.</p><div class=\"hardwall\" data-position=\"3\"></div><div class=\"softwall\" data-position=\"3\"></div><div class=\"image\" tabindex=\"0\" role=\"button\" aria-label=\"Open image in viewer\"><div id=\"lazy-img-365862079\" class=\"lazy-img\">relates to After Crushing Covid, Melbourne Emerges Wary and More Sedate</div></div><div class=\"news-figure-caption-text caption\"><p>Seats are devoid of spectators during 2020 Melbourne Cup on Nov. 3.</p></div><div class=\"news-figure-credit credit\"><p>Photographer: Daniel Pockett/Getty Images AsiaPac</p></div>\\n        <div id=\"box-pHwxI4d\" class=\"page-ad\" data-position=\"mobile-box\">\\n            \\n            <div class=\"mobile-box-ad-dummy\"></div>\\n        </div>\\n        <p>As cities in Europe and North America struggle to suppress a resurgence of the pandemic, Melbourne is an example of how the coronavirus can be brought under control even in the peak of winter by following stay-at-home and compulsory mask-wearing orders. New cases in the state of Victoria peaked in August, sparking deadly outbreaks in nursing homes that kept businesses shuttered and residents confined to their homes.</p><div class=\"hardwall\" data-position=\"4\"></div><div class=\"softwall\" data-position=\"4\"></div>\\n        <div class=\"thirdparty-embed coronavirus-data-dashboard\">\\n            <div class=\"thirdparty-embed__container\" style=\"height: 0; padding-bottom: 100%px;\">\\n                \\n           \\n            \\n            </div>\\n        </div>\\n        \\n            \\n        <a class=\"postr-recirc__index\" href=\"/prognosis?in_source=postr_index\">\\n            <div class=\"postr-recirc__index-prefix\">More from</div>\\n            <div class=\"postr-recirc__index-title\"></div>\\n        </a>\\n    \\n            <div class=\"postr-recirc__container\">\\n                \\n        <div class=\"postr-recirc__story\">\\n            <div class=\"postr-recirc__story-headline\">\\n                <a class=\"postr-recirc__story-link\" href=\"https://www.bloomberg.com/news/articles/2020-11-03/palantir-in-talks-to-provide-contact-tracing-to-u-k-government?in_source=postr_story_0\">\\n                    Palantir in Talks to Support Contact Tracing for U.K.\\n                </a>\\n            </div>\\n        </div>\\n    \\n        <div class=\"postr-recirc__story\">\\n            <div class=\"postr-recirc__story-headline\">\\n                <a class=\"postr-recirc__story-link\" href=\"https://www.bloomberg.com/news/articles/2020-11-08/biden-advisers-met-with-warp-speed-drugmakers-before-election?in_source=postr_story_1\">\\n                    Biden Advisers Met With Warp Speed Drugmakers Before Election\\n                </a>\\n            </div>\\n        </div>\\n    \\n        <div class=\"postr-recirc__story\">\\n            <div class=\"postr-recirc__story-headline\">\\n                <a class=\"postr-recirc__story-link\" href=\"https://www.bloomberg.com/news/articles/2020-11-06/more-u-s-states-hit-highs-nyc-fears-second-wave-virus-update?in_source=postr_story_2\">\\n                    U.S. Deaths Rise While Nation Awaits Biden&#x2019;s Plan: Virus Update\\n                </a>\\n            </div>\\n        </div>\\n    \\n        <div class=\"postr-recirc__story\">\\n            <div class=\"postr-recirc__story-headline\">\\n                <a class=\"postr-recirc__story-link\" href=\"https://www.bloomberg.com/news/articles/2020-11-07/covid-outbreak-in-mink-that-was-dismissed-now-has-world-worried?in_source=postr_story_3\">\\n                    Covid Outbreak in Mink That Was Dismissed Now Has World Worried\\n                </a>\\n            </div>\\n        </div>\\n    \\n            </div>\\n        \\n    <p>&#x201C;Victorians have built something that is not only unique in our country, but is of international significance to have gone from more than 700 cases a day to now nine days of zero cases,&#x201D; Victorian Premier Daniel Andrews told <a href=\"https://www.abc.net.au/news/2020-11-08/coronavirus-australia-live-updates-covid-19-latest-victoria/12861166\" itemprop=\"StoryLink\" itemscope=\"itemscope\" title=\"Link to Televised Press Conference\" target=\"_blank\" rel=\"nofollow noopener\"><meta itemprop=\"type\" content=\"WebLink\">reporters</a> in Melbourne Sunday. &#x201C;Nine days of zero is not the same as a vaccine. Each of us has played a part in building this precious thing and each of us has to play a part in protecting it. If we want to stay open, then we have to stay safe.&#x201D;</p>\\n        <div id=\"desktop-in-article-1-QJD6URDWRGG101\" class=\"page-ad\" data-position=\"desktop-in-article\">\\n            \\n            <div class=\"desktop-in-article-ad-dummy\"></div>\\n        </div>\\n        <p>Read more: <a href=\"https://www.bloomberg.com/news/articles/2020-10-28/city-locked-down-for-three-months-has-bleak-lesson-for-the-world\" itemprop=\"StoryLink\" itemscope=\"itemscope\" title=\"City Locked Down for Three Months Has Bleak Lesson for World (2)\" target=\"_blank\"><meta itemprop=\"suid\" content=\"QIWMNSDWLU6D\"><meta itemprop=\"type\" content=\"StoryLink\">City Locked Down for Three Months Has Bleak Lesson for World</a></p><p>Security failures at hotels used to quarantine returning overseas travelers enabled the SARS-CoV-2 virus to spread across metropolitan Melbourne, creating the nation&#x2019;s worst Covid hotspot. The flare-up showed &#x201C;you can&#x2019;t relax your attention,&#x201D; said Helen Clark, the former New Zealand prime minister who is co-chairing an independent evaluation of the early global response to the pandemic.</p><h3 id=\"paid-off\">&#x2018;Paid Off&#x2019;</h3><p>Like in Melbourne, New Zealanders accepted unprecedented restrictions on their freedom of movement in the wake of the pandemic, Clark said in an interview from Auckland Tuesday. &#x201C;But it paid off, and today we live in a much more relaxed life than sadly people in many other countries do.&#x201D;</p>\\n        <div class=\"thirdparty-embed \">\\n            <div class=\"thirdparty-embed__container\">\\n                <p lang=\"en\" dir=\"ltr\">&#x201C;It&#x2019;s clearly not just a health crisis.&#x201D;<a href=\"https://twitter.com/HelenClarkNZ?ref_src=twsrc%5Etfw\">@HelenClarkNZ</a>, one of the leaders of <a href=\"https://twitter.com/TheIndPanel?ref_src=twsrc%5Etfw\">@TheIndPanel</a> for Pandemic Preparedness and Response, evaluates the world&#x2019;s <a href=\"https://twitter.com/hashtag/Covid19?src=hash&amp;ref_src=twsrc%5Etfw\">#Covid19</a> response. More <a href=\"https://twitter.com/business?ref_src=twsrc%5Etfw\">@business</a>: <a href=\"https://t.co/sH8V5LQReV\">https://t.co/sH8V5LQReV</a> <a href=\"https://t.co/JRcBFQ3jxj\">pic.twitter.com/JRcBFQ3jxj</a></p>&#x2014; Bloomberg QuickTake (@QuickTake) <a href=\"https://twitter.com/QuickTake/status/1324623071890841600?ref_src=twsrc%5Etfw\">November 6, 2020</a>\\n\\n\\n            </div>\\n        </div><p>Soon Australia, New Zealand and other countries enjoying a diminished Covid threat could resume international travel in &#x201C;a bubble approach&#x201D; that would afford some safety in the absence of a licensed vaccine, Clark said.</p>\\n        <div id=\"in-article-1-QJD6URDWRGG101\" class=\"page-ad bb-mobile bb-tablet\" data-position=\"in-article\">\\n            \\n            <div class=\"in-article-ad-dummy\"></div>\\n        </div>\\n        <p>&#x201C;Having had success in stamping it out and continuing to stamp it out whenever it appears, you don&#x2019;t want to import cases willy nilly,&#x201D; she said. &#x201C;The reality is, for countries that bungle the public health response, the economic damage is going to be deeper and longer lasting.&#x201D;</p><p>Every day without a coronavirus case puts Victoria closer to successfully &#x201C;shutting down local transmission,&#x201D; said <a href=\"https://www.deakin.edu.au/research/Our-research-response-to-COVID-19/catherine-bennett\" itemprop=\"StoryLink\" itemscope=\"itemscope\" title=\"Link to Bio Page\" target=\"_blank\" rel=\"nofollow noopener\"><meta itemprop=\"type\" content=\"WebLink\">Catherine Bennett</a>, chair in epidemiology at Melbourne&#x2019;s Deakin University. No SARS-CoV-2 infections were found among the 10,653 people tested Sunday, the state health department said. Two were found on Oct. 29, the last time cases were reported in the state.</p><div class=\"thirdparty-embed__error\"><!-- Embed http://twitter.com/VicGovDHHS/statuses/1325548546788126720 failed to build due to malformed data. --></div><h3 id=\"screening-monitoring\">Screening, Monitoring</h3><p>Each week, Victoria is screening thousands of high-risk workers including from the aged-care and meat-packing industries, regularly monitoring wastewater for traces of the virus, and has vastly improved its ability to trace and isolate the contacts of cases, Bennett said.</p><p>&#x201C;That certainly builds your confidence that all is quiet,&#x201D; she said. &#x201C;We, hopefully, now have a health system strong enough that we don&#x2019;t have to face a third wave because we&#x2019;ve got early warning, we&#x2019;ve got sentinel surveillance, and we&#x2019;ve got a really active, aggressive follow-up if cases start reappearing.&#x201D;</p>\\n        <div id=\"desktop-in-article-2-QJD6URDWRGG101\" class=\"page-ad\" data-position=\"desktop-in-article\">\\n            \\n            <div class=\"desktop-in-article-ad-dummy\"></div>\\n        </div>\\n        <p>Melbourne is now gradually loosening <a href=\"https://www.coronavirus.vic.gov.au/sites/default/files/2020-10/Victorias-roadmap-for-reopening-How-we-live-in-metropolitan-Melbourne-FINAL.pdf\" itemprop=\"StoryLink\" itemscope=\"itemscope\" title=\"Link to Roadmap\" target=\"_blank\" rel=\"nofollow noopener\"><meta itemprop=\"type\" content=\"WebLink\">restrictions</a> as it heads toward what the national government calls &#x201C;Covid normal.&#x201D; A 25-kilometer (16-mile) limit on traveling away from home will be lifted midnight Sunday.</p><div class=\"image\" tabindex=\"0\" role=\"button\" aria-label=\"Open image in viewer\"><div id=\"lazy-img-365861896\" class=\"lazy-img\">Melbourne Emerges From Lockdown That Crushes Infection Curve But With Huge Economic Cost</div></div><div class=\"news-figure-caption-text caption\"><p>A safe distancing sign at a shopping center in Melbourne earlier in October.</p></div><div class=\"news-figure-credit credit\"><p>Photographer: Carla Gottgens/Bloomberg</p></div><p>If no new Covid-19 cases are reported in Victoria for 14 days, limits on public gatherings will be increased to 50 people outdoors and 20 visitors inside homes. After 28 days without cases, all restrictions will be lifted, with a phased return to on-site work for people who have been working from home since March.</p><p>&#x201C;While the medicine&#x2019;s been really tough and really hard to swallow, it&#x2019;s done the job,&#x201D; said Terry Slevin, chief executive officer of the Public Health Association of Australia.</p><p>Read more: <a href=\"https://www.bloomberg.com/news/articles/2020-11-07/melbourne-s-ring-of-steel-lifted-after-strict-lockdown-success\" itemprop=\"StoryLink\" itemscope=\"itemscope\" title=\"Melbourne&#x2019;s &#x2018;Ring of Steel&#x2019; Lifted After Strict Lockdown Success\" target=\"_blank\"><meta itemprop=\"suid\" content=\"QJCEH3T1UM0W\"><meta itemprop=\"type\" content=\"StoryLink\">Melbourne&#x2019;s &#x2018;Ring of Steel&#x2019; Lifted After Strict Lockdown Success</a></p><h3 id=\"paid-the-price\">&#x2018;Paid the Price&#x2019;</h3><p>&#x201C;There are countries that have the technical expertise and the capacity to do exactly what Victoria has done, but they haven&#x2019;t,&#x201D; Slevin said. &#x201C;In other parts of the world, that same political leadership hasn&#x2019;t supported the expert advice. And the truth is, those communities have paid the price with their lives.&#x201D;</p>\\n        <div id=\"in-article-2-QJD6URDWRGG101\" class=\"page-ad bb-mobile\" data-position=\"in-article\">\\n            \\n            <div class=\"in-article-ad-dummy\"></div>\\n        </div>\\n        <p>Australia, with a population of 25 million, recorded <a href=\"https://www.health.gov.au/news/health-alerts/novel-coronavirus-2019-ncov-health-alert/coronavirus-covid-19-current-situation-and-case-numbers#covid19-summary-statistics-\" id=\"13840\" itemprop=\"StoryLink\" itemscope=\"itemscope\" title=\"Link to Government Information\" target=\"_blank\" rel=\"nofollow noopener\"><meta itemprop=\"type\" content=\"WebLink\">907</a> Covid-19 deaths from 27,658 cases as of Sunday. It&#x2019;s not taking that low tally for granted.</p><p>Sydney&#x2019;s <a href=\"https://www.mardigras.org.au/news/2021s-mardi-gras-parade-will-be-at-the-scg\" itemprop=\"StoryLink\" itemscope=\"itemscope\" title=\"Link to Information\" target=\"_blank\" rel=\"nofollow noopener\"><meta itemprop=\"type\" content=\"WebLink\">Gay and Lesbian Mardi Gras</a> parade will be held in a stadium in front of 23,000 seated spectators next March, and organizers of the <a href=\"https://www.tennis.com/pro-game/2020/10/australian-open-2021/91499/\" itemprop=\"StoryLink\" itemscope=\"itemscope\" title=\"Link to News Article\" target=\"_blank\" rel=\"nofollow noopener\"><meta itemprop=\"type\" content=\"WebLink\">Australian Open</a> in January are preparing to welcome a reduced crowd to the tennis tournament in Melbourne.</p><div class=\"image\" tabindex=\"0\" role=\"button\" aria-label=\"Open image in viewer\"><div id=\"lazy-img-365861898\" class=\"lazy-img\">Melbourne Emerges From Lockdown That Crushes Infection Curve But With Huge Economic Cost</div></div><div class=\"news-figure-caption-text caption\"><p>Customers outside of a bar in the Fitzroy district of Melbourne.</p></div><div class=\"news-figure-credit credit\"><p>Photographer: Carla Gottgens/Bloomberg</p></div><p>The hiss of disinfectant spray periodically broke the silence aboard a Melbourne streetcar recently as it rumbled past sparsely populated beachside patisseries, cafes and clothing stores. The half-dozen face mask-wearing passengers sat quietly rows apart as a cleaner sanitized tram surfaces around them.</p>\\n        <div id=\"desktop-in-article-3-QJD6URDWRGG101\" class=\"page-ad\" data-position=\"desktop-in-article\">\\n            \\n            <div class=\"desktop-in-article-ad-dummy\"></div>\\n        </div>\\n        <p>In the suburb of St Kilda, bistros and bars usually jammed with tourists and holidaymakers on a Friday afternoon were hosting gatherings of mostly construction workers and families at outdoor tables served by face mask-clad waiting staff dutifully recording patrons&#x2019; contact details.</p><p>&#x201C;I can&#x2019;t see it going back to what it was before,&#x201D; said Nicole Laski, who manages Monarch Cakes, a family-owned patisserie on Ackland Street established in 1934. &#x201C;I think everyone&#x2019;s learned a valuable lesson.&#x201D;</p><div class=\"trashline\">(Updates time period without cases in first paragraph; adds comment from premier in fourth.)</div><ol class=\"noscript-footnotes\"></ol><div class=\"footer-timestamp\">\\n        <div class=\"footer-timestamp__times\">\\n            Published on \\n        \\n            November 7, 2020, 12:25 PM EST\\n        \\n    \\n            <br /> \\n            \\n        \\n            \\n                Updated on\\n            \\n            \\n                November 8, 2020, 5:55 PM EST\\n            \\n        \\n    \\n        </div>\\n    </div>\\n        <div class=\"touts-v2\">\\n            \\n        </div>\\n        <div class=\"bottom-left-rail-touts-spacer\"></div>\\n        \\n            <div class=\"secure-tip-tout-v2\">\\n            <a class=\"secure-tip-tout-v2__link\" href=\"https://www.bloomberg.com/tips/\">Have a confidential tip for our reporters?</a><br />\\n            <a class=\"secure-tip-tout-v2__call-to-action\" href=\"https://www.bloomberg.com/tips/\">GET IN TOUCH</a>\\n        </div>\\n            <div class=\"terminal-tout-v2\">\\n        <div class=\"terminal-tout-v2__text\">Before it\\'s here, it\\'s on the Bloomberg Terminal.</div>\\n        <a href=\"https://bloom.bg/dg-ws-core-bcom-a1\" class=\"terminal-tout-v2__link\">LEARN MORE</a>\\n    </div>\\n        \\n    \\n            \\n        \\n            \\n            \\n            \\n            <div class=\"text-to-speech\">\\n            <h2 class=\"text-to-speech__label\">LISTEN TO ARTICLE</h2>\\n            <div class=\"text-to-speech__controls\">\\n                \\n                <div class=\"text-to-speech__runtime\" data-duration=\"343667\">5:44</div>\\n            </div>\\n            \\n                \\n            \\n        </div>\\n            <div class=\"share-article-button\">\\n            <h2 class=\"share-article-button__label\">SHARE THIS ARTICLE</h2>\\n            <div class=\"share-article-button__option\"><a href=https://www.facebook.com/sharer/sharer.php?u=https%3A%2F%2Fwww.bloomberg.com%2Fnews%2Farticles%2F2020-11-07%2Fafter-crushing-covid-melbourne-emerges-wary-and-more-sedate class=share-article-button__link rel=nofollow data-new-window aria-label=\"Share this article on Facebook (opens in a new window)\">\\n                <div class=\"share-article-button__icon share-article-button__icon-facebook\"></div>Share\\n            </a></div>\\n            <div class=\"share-article-button__option\"><a href=https://twitter.com/share?text=Melbourne%20has%20gone%20more%20than%20a%20week%20without%20any%20reported%20Covid-19%20cases%2C%20and%20the%20majority%20of%20its%205%20million%20residents%20aren%E2%80%99t%20taking%20chances&via=business&url=https%3A%2F%2Fwww.bloomberg.com%2Fnews%2Farticles%2F2020-11-07%2Fafter-crushing-covid-melbourne-emerges-wary-and-more-sedate class=share-article-button__link rel=nofollow data-new-window aria-label=\"Share this article on Twitter (opens in a new window)\">\\n                <div class=\"share-article-button__icon share-article-button__icon-twitter\"></div>Tweet\\n            </a></div>\\n            <div class=\"share-article-button__option\"><a href=https://www.linkedin.com/shareArticle?mini=true&title=After%20Crushing%20Covid%2C%20Melbourne%20Emerges%20Wary%20and%20More%20Sedate&summary=Melbourne%20has%20gone%2010%20days%20without%20any%20reported%20Covid-19%20cases%2C%20and%20the%20majority%20of%20its%205%20million%20residents%20aren%E2%80%99t%20taking%20chances.&url=https%3A%2F%2Fwww.bloomberg.com%2Fnews%2Farticles%2F2020-11-07%2Fafter-crushing-covid-melbourne-emerges-wary-and-more-sedate class=share-article-button__link rel=nofollow data-new-window aria-label=\"Share this article on LinkedIn (opens in a new window)\">\\n                <div class=\"share-article-button__icon share-article-button__icon-linkedin\"></div>Post\\n            </a></div>\\n            <div class=\"share-article-button__option\"><a href=mailto:?subject=After%20Crushing%20Covid%2C%20Melbourne%20Emerges%20Wary%20and%20More%20Sedate%20-%20Bloomberg&body=After%20Crushing%20Covid%2C%20Melbourne%20Emerges%20Wary%20and%20More%20Sedate%0D%0A%0D%0Aby%20Jason%20Gale%20and%20Matthew%20Burgess%0D%0A%0D%0AMelbourne%20has%20gone%2010%20days%20without%20any%20reported%20Covid-19%20cases%2C%20and%20the%20majority%20of%20its%205%20million%20residents%20aren%E2%80%99t%20taking%20chances.%0D%0A%0D%0Ahttps%3A%2F%2Fwww.bloomberg.com%2Fnews%2Farticles%2F2020-11-07%2Fafter-crushing-covid-melbourne-emerges-wary-and-more-sedate class=share-article-button__link rel=nofollow aria-label=\"Share this article via email (opens native email client)\">\\n                <div class=\"share-article-button__icon share-article-button__icon-email\"></div>Email\\n            </a></div>\\n        </div>\\n            <div id=\"brokerboxarticle-7gUWR8E\" class=\"brokerboxarticle page-ad hide-ad\" data-position=\"brokerboxarticle\">\\n        \\n    </div>\\n        \\n    \\n        </div>\\n                                    \\n                                </div>\\n                            </div>\\n                            \\n                            \\n                            \\n                            \\n                            <div id=\"brandmetrics-survey\">\\n            \\n        </div>\\n                            \\n        <div id=\"taboola-below-article-thumbnails-3d7a3c8c2791cb57a28c3d7e9ed6fd33\" class=\"taboola\"></div>\\n                        \\n                        \\n                            \\n                            \\n                            <div class=\"dry-container\">\\n                            </div>\\n                            <div class=\"sticky-container\">\\n                                <div class=\"mini-player\">\\n            <div class=\"mini-player__details\">\\n                <div class=\"mini-player__live-headline\">LIVE ON BLOOMBERG</div>\\n                <a class=\"mini-player__link\" href=\"https://www.bloomberg.com/live\">Watch Live TV</a>\\n                <a class=\"mini-player__link\" href=\"https://www.bloomberg.com/audio\">Listen to Live Radio</a>\\n            </div>\\n            <a href=\"https://www.bloomberg.com/live\" class=\"mini-player__video\"></a>\\n        </div>\\n                                \\n                                <div id=\"box-5LrFDaC\" class=\"box rotation-item page-ad\" data-position=\"box\">\\n        \\n    </div>\\n                                \\n                                <div class=\"recirc-v2 rotation-item\">\\n            <h2 class=\"recirc-v2__title\">Most Read</h2>\\n            <ol class=\"recirc-v2__list\">\\n                \\n        <li class=\"recirc-v2__list-item recirc-v2__list-item-article\">\\n            <div class=\"recirc-v2__eyebrow\">markets</div>\\n            <a class=\"recirc-v2__list-item-article-link\" href=\"https://www.bloomberg.com/news/articles/2020-11-08/biden-stocks-will-have-history-and-fed-on-side-not-much-else\">Biden Stocks Will Have History and Fed on Side, Not Much Else</a>\\n        </li>\\n        <li class=\"recirc-v2__list-item recirc-v2__list-item-article\">\\n            <div class=\"recirc-v2__eyebrow\">markets</div>\\n            <a class=\"recirc-v2__list-item-article-link\" href=\"https://www.bloomberg.com/news/articles/2020-11-08/dollar-slips-on-biden-victory-aussie-advances-markets-wrap\">Stocks Head Toward Record High on Biden Optimism: Markets Wrap</a>\\n        </li>\\n        <li class=\"recirc-v2__list-item recirc-v2__list-item-article\">\\n            <div class=\"recirc-v2__eyebrow\">markets</div>\\n            <a class=\"recirc-v2__list-item-article-link\" href=\"https://www.bloomberg.com/news/articles/2020-11-07/berkshire-buys-back-another-9-billion-of-stock-in-record-year\">Buffett Leans Into New Way to Use Cash With Buybacks Surging</a>\\n        </li>\\n        <li class=\"recirc-v2__list-item recirc-v2__list-item-article\">\\n            <div class=\"recirc-v2__eyebrow\">business</div>\\n            <a class=\"recirc-v2__list-item-article-link\" href=\"https://www.bloomberg.com/news/articles/2020-11-08/alex-trebek-tv-host-of-jeopardy-for-three-decades-dies-at-80\">Alex Trebek, TV Host of &#8216;Jeopardy&#8217; for Three Decades, Dies at 80</a>\\n        </li>\\n        <li class=\"recirc-v2__list-item recirc-v2__list-item-article\">\\n            <div class=\"recirc-v2__eyebrow\">markets</div>\\n            <a class=\"recirc-v2__list-item-article-link\" href=\"https://www.bloomberg.com/news/articles/2020-11-07/irrational-gamblers-fooled-financial-markets-on-election-night\">Uninformed Gamblers Fooled Global Markets With Big Bets on Trump</a>\\n        </li>\\n            </ol>\\n        </div>\\n                            </div>\\n                        \\n                    </div>\\n                </div>\\n            \\n        \\n                        <div id=\"native-lqalCK4\" class=\"native page-ad\" data-position=\"native\">\\n        \\n    </div>\\n                    </div>\\n                \\n                 <div class=\"bb-global-footer__content\"> <div class=\"bb-global-footer__group\"> <a class=\"bb-global-footer__link\" href=\"http://www.bloomberg.com/tos\">Terms of Service</a>  <a class=\"bb-global-footer__link\" href=\"http://www.bloomberg.com/trademarks\">Trademarks</a> <a class=\"bb-global-footer__link\" href=\"http://www.bloomberg.com/privacy\">Privacy Policy</a> \\xa92020 Bloomberg L.P. All Rights Reserved </div> <div class=\"bb-global-footer__group\"> <a class=\"bb-global-footer__link\" href=\"http://www.bloomberg.com/careers/?utm_source=dotcom&utm_medium=footer\">Careers</a> <a class=\"bb-global-footer__link\" href=\"http://nytm.org/made-in-nyc\">Made in NYC</a> <a class=\"bb-global-footer__link\" href=\"http://bloombergmedia.com/\">Advertise</a> <a class=\"bb-global-footer__link bb-global-footer__ad-choices\" href=\"http://www.bloomberg.com/privacy#advertisements\">Ad Choices</a> <a class=\"bb-global-footer__link\" href=\"http://www.bloomberg.com/feedback\">Contact Us</a> <a class=\"bb-global-footer__link\" href=\"http://www.bloomberg.com/help\">Help</a> </div> </div> \\n                \\n        \\n                \\n                \\n                <!-- Google Tag Manager --><!-- End Google Tag Manager -->\\n                <!-- Google Tag Manager (noscript) --><!-- End Google Tag Manager (noscript) -->\\n                \\n                \\n        \\n        \\n                \\n                \\n            \\n            \\n    \\n\\n            \\n            \\n    \\n    \\n        <div style=\"position:fixed; top:0; left:0; display:none\" width=\"1\" height=\"1\">\\n            PxPixel\\n        </div>\\n    \\n\\n        \\n                \\n                \\n                \\n\\n\\n\\n\\n\\n                \\n                \\n            </body>\\n        </html>'"
      ]
     },
     "execution_count": 50,
     "metadata": {},
     "output_type": "execute_result"
    }
   ],
   "source": [
    "r.content"
   ]
  },
  {
   "cell_type": "code",
   "execution_count": 37,
   "metadata": {},
   "outputs": [],
   "source": [
    "import wikipedia"
   ]
  },
  {
   "cell_type": "code",
   "execution_count": 50,
   "metadata": {},
   "outputs": [],
   "source": [
    "mystr = wikipedia.page(\"Maldives\").summary"
   ]
  },
  {
   "cell_type": "code",
   "execution_count": 51,
   "metadata": {},
   "outputs": [
    {
     "data": {
      "text/plain": [
       "'The Maldives (, US:  (listen); Dhivehi: ދިވެހިރާއްޖެ Dhivehi Raajje), officially the Republic of Maldives, is a small island nation in South Asia, situated in the Arabian Sea of the Indian Ocean. It lies southwest of Sri Lanka and India, about 700 kilometres (430 mi) from the Asian continent\\'s mainland. The chain of 26 atolls stretches from Ihavandhippolhu Atoll in the north to Addu Atoll in the south to the equator. Comprising a territory spanning roughly 298 square kilometres (115 sq mi), the Maldives is one of the world\\'s most geographically dispersed sovereign states as well as the smallest Asian country by land area and population, with around 515,696 inhabitants. Malé is the capital and the most populated city, traditionally called the \"King\\'s Island\" where the ancient royal dynasties ruled for its central location.The Maldives archipelago is located on the Chagos-Laccadive Ridge, a vast submarine mountain range in the Indian Ocean; this also forms a terrestrial ecoregion, together with the Chagos Archipelago and Lakshadweep. With an average ground-level elevation of 1.5 metres (4 ft 11 in) above sea level, it is the world\\'s lowest-lying country, with even its highest natural point being one of the lowest in the world, at 5.1 metres (17 ft).In the 12th century Islam reached the Maldivian archipelago, which was consolidated as a  sultanate, developing strong commercial and cultural ties with Asia and Africa. From the mid-16th-century the region came under the increasing influence of European  colonial powers, with the Maldives becoming a British protectorate in 1887.  Independence from the United Kingdom came in 1965, and a presidential republic was established in 1968 with an elected People\\'s Majlis. The ensuing decades have seen political instability, efforts at democratic reform, and environmental challenges posed by  climate change.The Maldives became a founding member of the South Asian Association for Regional Cooperation (SAARC). It is also a member of the United Nations, the Commonwealth of Nations, the Organisation of Islamic Cooperation, and the Non-Aligned Movement. The World Bank classifies the Maldives as having an upper-middle income economy. Fishing has historically been the dominant economic activity, and remains the largest sector by far, followed by the rapidly growing tourism industry. The Maldives rate \"high\" on the Human Development Index, with per-capita income significantly higher than other SAARC nations.The Maldives was a member of the Commonwealth from July 1982 until withdrawing from the organisation in October 2016 in protest at allegations by the other nations of its human-rights abuses and failing democracy. The Maldives rejoined the Commonwealth on 1 February 2020 after showing evidence of functioning democratic processes and popular support.'"
      ]
     },
     "execution_count": 51,
     "metadata": {},
     "output_type": "execute_result"
    }
   ],
   "source": [
    "mystr.partition('\\n')[0]"
   ]
  },
  {
   "cell_type": "code",
   "execution_count": 47,
   "metadata": {},
   "outputs": [],
   "source": [
    "title = 'Panama Canal - Wikipedia'\n",
    "page_title = title.partition(' - Wikipedia')[0]"
   ]
  },
  {
   "cell_type": "code",
   "execution_count": 48,
   "metadata": {},
   "outputs": [
    {
     "data": {
      "text/plain": [
       "'Panama Canal'"
      ]
     },
     "execution_count": 48,
     "metadata": {},
     "output_type": "execute_result"
    }
   ],
   "source": [
    "page_title"
   ]
  },
  {
   "cell_type": "code",
   "execution_count": 57,
   "metadata": {},
   "outputs": [
    {
     "data": {
      "text/plain": [
       "'Donald Trump'"
      ]
     },
     "execution_count": 57,
     "metadata": {},
     "output_type": "execute_result"
    }
   ],
   "source": [
    "myurl = \"https://en.wikipedia.org/wiki/Donald_Trump\"\n",
    "right_slash = myurl.rfind('/')\n",
    "page_to_get = myurl[right_slash + 1:].replace('_', ' ')\n",
    "page_to_get"
   ]
  },
  {
   "cell_type": "code",
   "execution_count": 56,
   "metadata": {},
   "outputs": [
    {
     "data": {
      "text/plain": [
       "'/Donald_Trump'"
      ]
     },
     "execution_count": 56,
     "metadata": {},
     "output_type": "execute_result"
    }
   ],
   "source": [
    "myurl[29:]\n"
   ]
  },
  {
   "cell_type": "code",
   "execution_count": 8,
   "metadata": {},
   "outputs": [],
   "source": [
    "import favicon\n",
    "import tldextract"
   ]
  },
  {
   "cell_type": "code",
   "execution_count": 3,
   "metadata": {},
   "outputs": [
    {
     "data": {
      "text/plain": [
       "[Icon(url='https://www.cnn.com/favicon.ie9.ico', width=0, height=0, format='ico'),\n",
       " Icon(url='https://cdn.cnn.com/cnn/.e/img/3.0/global/misc/apple-touch-icon.png', width=0, height=0, format='png'),\n",
       " Icon(url='https://cdn.cnn.com/cnnnext/dam/assets/201015223113-14-deuling-town-halls-super-tease.jpg', width=0, height=0, format='jpg')]"
      ]
     },
     "execution_count": 3,
     "metadata": {},
     "output_type": "execute_result"
    }
   ],
   "source": [
    "favicon.get(\"https://www.cnn.com/2020/10/16/politics/trump-tax-returns-nbc-town-hall-savannah-guthrie/index.html\", timeout=2)"
   ]
  },
  {
   "cell_type": "code",
   "execution_count": 4,
   "metadata": {},
   "outputs": [
    {
     "data": {
      "text/plain": [
       "[Icon(url='https://cdn.britannica.com/45/3445-004-07CCF23B/Perseus-bronze-sculpture-Benvenuto-Cellini-Loggia-dei.jpg', width=0, height=0, format='jpg')]"
      ]
     },
     "execution_count": 4,
     "metadata": {},
     "output_type": "execute_result"
    }
   ],
   "source": [
    "favicon.get(\"https://www.britannica.com/topic/Perseus-Greek-mythology\", timeout=2)\n"
   ]
  },
  {
   "cell_type": "code",
   "execution_count": 12,
   "metadata": {},
   "outputs": [],
   "source": [
    "answer_link = \"https://www.britannica.com/topic/Perseus-Greek-mythology\"\n",
    "answer_website = 'http://'+tldextract.extract(answer_link).subdomain + \".\" + tldextract.extract(answer_link).domain + '.' + tldextract.extract(answer_link).suffix\n",
    "icons_list = favicon.get(answer_website, timeout=2)\n",
    "source_favicon = icons_list[0]"
   ]
  },
  {
   "cell_type": "code",
   "execution_count": 13,
   "metadata": {},
   "outputs": [
    {
     "data": {
      "text/plain": [
       "'http://www.britannica.com'"
      ]
     },
     "execution_count": 13,
     "metadata": {},
     "output_type": "execute_result"
    }
   ],
   "source": [
    "answer_website"
   ]
  },
  {
   "cell_type": "code",
   "execution_count": 17,
   "metadata": {},
   "outputs": [
    {
     "data": {
      "text/plain": [
       "'https://www.britannica.com:443/favicon.ico'"
      ]
     },
     "execution_count": 17,
     "metadata": {},
     "output_type": "execute_result"
    }
   ],
   "source": [
    "icons_list[0].url"
   ]
  },
  {
   "cell_type": "code",
   "execution_count": 19,
   "metadata": {},
   "outputs": [],
   "source": [
    "for icon in icons_list:\n",
    "    if 'png' in icon.format or 'jpg' in icon.format:\n",
    "        source_favicon = icon.url\n",
    "        break\n",
    "    else:\n",
    "        source_favicon = icon.url\n",
    "        "
   ]
  },
  {
   "cell_type": "code",
   "execution_count": 20,
   "metadata": {},
   "outputs": [
    {
     "data": {
      "text/plain": [
       "'https://www.britannica.com/resources/images/EBLogo.jpg'"
      ]
     },
     "execution_count": 20,
     "metadata": {},
     "output_type": "execute_result"
    }
   ],
   "source": [
    "source_favicon"
   ]
  },
  {
   "cell_type": "code",
   "execution_count": 27,
   "metadata": {},
   "outputs": [],
   "source": [
    "import requests\n",
    "from bs4 import BeautifulSoup\n",
    "import fake_useragent\n",
    "# desktop user-agent\n",
    "DEFAULT_USER_AGENT = \"Mozilla/5.0 (Macintosh; Intel Mac OS X 10.14; rv:65.0) Gecko/20100101 Firefox/65.0\"\n",
    "# mobile user-agent\n",
    "MOBILE_USER_AGENT = \"Mozilla/5.0 (Linux; Android 7.0; SM-G930V Build/NRD90M) AppleWebKit/537.36 (KHTML, like Gecko) Chrome/59.0.3071.125 Mobile Safari/537.36\"\n",
    "# iphone user agent\n",
    "IPHONE_USER_AGENT = \"Mozilla/5.0 (iPhone; CPU iPhone OS 6_1 like Mac OS X) AppleWebKit/536.26 (KHTML; like Gecko) Mobile/10B142 iPhone4;1 BingWeb/3.03.1428.20120423\"\n",
    "# bot agent\n",
    "BOT_USER_AGENT = \"Mozilla/5.0 (compatible; Lazybot/2.1; +http://www.lazyweb.ai/bot)\"\n",
    "GOOGLE_BOT_AGENT = \"Mozilla/5.0 (compatible; Googlebot/2.1; +http://www.google.com/bot.html)\"\n",
    "# Google bot agent\n",
    "HEADERS_BASE = {\"accept\": \"text/html,application/xhtml+xml,application/xml;q=0.9,image/webp,*/*;q=0.8\", \"accept-encoding\": \"gzip, deflate, sdch, br\", \"accept-language\": \"en-US,en;q=0.8,ms;q=0.6\", \"upgrade-insecure-requests\": \"1\", \"referrer\": \"https://www.google.com\", 'Access-Control-Allow-Origin': '*','Access-Control-Allow-Methods': 'GET','Access-Control-Allow-Headers': 'Content-Type','Access-Control-Max-Age': '3600'}\n",
    "\n",
    "PROXY_HEADERS_BASE = {\"x-lazyweb-origin\": \"lazyweb.ai\",\"accept\": \"text/html,application/xhtml+xml,application/xml;q=0.9,image/webp,*/*;q=0.8\", \"accept-encoding\": \"gzip, deflate, sdch, br\", \"accept-language\": \"en-US,en;q=0.8,ms;q=0.6\", \"upgrade-insecure-requests\": \"1\", \"referrer\": \"https://www.google.com\", 'Access-Control-Allow-Origin': '*','Access-Control-Allow-Methods': 'GET','Access-Control-Allow-Headers': 'Content-Type','Access-Control-Max-Age': '3600'}\n",
    "BOT_HEADERS_BASE = {\"x-lazyweb-origin\": \"lazyweb.ai\"}\n",
    "# User agent db download\n",
    "UA_DB = \"https://fake-useragent.herokuapp.com/browsers/0.1.11\"\n",
    "\n"
   ]
  },
  {
   "cell_type": "code",
   "execution_count": 30,
   "metadata": {},
   "outputs": [],
   "source": [
    "ua_download = requests.get(UA_DB, allow_redirects=True)\n",
    "ua_location = 'fake_useragent-%s.json' % fake_useragent.VERSION\n",
    "open(ua_location, 'wb').write(ua_download.content)\n",
    "ua = fake_useragent.UserAgent(path=ua_location, fallback=DEFAULT_USER_AGENT)\n",
    "user_agent = ua.random\n",
    "bot_headers = {'user-agent': GOOGLE_BOT_AGENT}\n",
    "bot_headers.update(BOT_HEADERS_BASE)\n",
    "parser_headers = {'user-agent': ua.random}\n",
    "proxy_headers = {\"user-agent\": ua.random}\n",
    "proxy_headers.update(PROXY_HEADERS_BASE)\n",
    "local_headers = {\"user-agent\": ua.random}\n",
    "local_headers.update(HEADERS_BASE)"
   ]
  },
  {
   "cell_type": "markdown",
   "metadata": {},
   "source": [
    "# Page Content Workings"
   ]
  },
  {
   "cell_type": "code",
   "execution_count": 31,
   "metadata": {},
   "outputs": [
    {
     "data": {
      "text/plain": [
       "{'user-agent': 'Mozilla/5.0 (Windows NT 6.2; WOW64) AppleWebKit/537.14 (KHTML, like Gecko) Chrome/24.0.1292.0 Safari/537.14',\n",
       " 'accept': 'text/html,application/xhtml+xml,application/xml;q=0.9,image/webp,*/*;q=0.8',\n",
       " 'accept-encoding': 'gzip, deflate, sdch, br',\n",
       " 'accept-language': 'en-US,en;q=0.8,ms;q=0.6',\n",
       " 'upgrade-insecure-requests': '1',\n",
       " 'referrer': 'https://www.google.com',\n",
       " 'Access-Control-Allow-Origin': '*',\n",
       " 'Access-Control-Allow-Methods': 'GET',\n",
       " 'Access-Control-Allow-Headers': 'Content-Type',\n",
       " 'Access-Control-Max-Age': '3600'}"
      ]
     },
     "execution_count": 31,
     "metadata": {},
     "output_type": "execute_result"
    }
   ],
   "source": [
    "local_headers"
   ]
  },
  {
   "cell_type": "code",
   "execution_count": null,
   "metadata": {},
   "outputs": [],
   "source": []
  },
  {
   "cell_type": "code",
   "execution_count": null,
   "metadata": {},
   "outputs": [],
   "source": [
    "\n",
    "\n",
    "\n"
   ]
  },
  {
   "cell_type": "code",
   "execution_count": 24,
   "metadata": {},
   "outputs": [],
   "source": [
    "url = \"https://au.linkedin.com/in/stevevamos\"\n",
    "link_proxy_url = \"https://lazyweb-proxy.herokuapp.com/https://au.linkedin.com/in/stevevamos\"\n"
   ]
  },
  {
   "cell_type": "code",
   "execution_count": 32,
   "metadata": {},
   "outputs": [],
   "source": [
    "r = requests.get(url, headers=local_headers, timeout=15)\n",
    "html = BeautifulSoup(r.content, 'html.parser')"
   ]
  },
  {
   "cell_type": "code",
   "execution_count": 21,
   "metadata": {},
   "outputs": [],
   "source": [
    "html.title"
   ]
  },
  {
   "cell_type": "code",
   "execution_count": 33,
   "metadata": {},
   "outputs": [
    {
     "data": {
      "text/plain": [
       "<Response [999]>"
      ]
     },
     "execution_count": 33,
     "metadata": {},
     "output_type": "execute_result"
    }
   ],
   "source": [
    "r"
   ]
  },
  {
   "cell_type": "code",
   "execution_count": 5,
   "metadata": {},
   "outputs": [],
   "source": [
    "response = {\"sessionAttributes\":{\"currentSearchResult\":\"{\\\"results_type\\\":\\\"Snippet\\\",\\\"answer\\\":\\\"A growth hacker is someone who uses creative, low-cost strategies to help businesses acquire and retain customers. Sometimes growth hackers are also called growth marketers, but growth hackers are not simply marketers.\\\",\\\"type\\\":\\\"article\\\",\\\"title\\\":\\\"What Is Growth Hacking? A Simple Definition + How to Get Started\\\",\\\"description\\\":\\\"What is growth hacking? It's not just a meaningless buzzword. Read this simple growth hacking definition to find out how to grow your business FAST.\\\",\\\"image\\\":\\\"https://cdn.optinmonster.com/wp-content/uploads/2014/10/fbdefaultimage.png\\\",\\\"link\\\":\\\"https://optinmonster.com/glossary/growth-hacking/\\\",\\\"source\\\":\\\"OptinMonster\\\",\\\"favicon\\\":\\\"\\\",\\\"results\\\":[{\\\"title\\\":\\\"What Is Growth Hacking? A Simple Definition + How to Get ...\\\",\\\"link\\\":\\\"https://optinmonster.com/glossary/growth-hacking/\\\",\\\"desc\\\":\\\"\\\"},{\\\"title\\\":\\\"Definitive Guide to Growth Hacking - QuickSprout\\\",\\\"link\\\":\\\"https://www.quicksprout.com/growth-hacking/\\\",\\\"desc\\\":\\\"\\\"},{\\\"title\\\":\\\"Growth Hacking Made Simple: A Step-by-Step Guide - Neil Patel\\\",\\\"link\\\":\\\"https://neilpatel.com/what-is-growth-hacking/\\\",\\\"desc\\\":\\\"\\\"},{\\\"title\\\":\\\"Growth hacking - Wikipedia\\\",\\\"link\\\":\\\"https://en.wikipedia.org/wiki/Growth_hacking\\\",\\\"desc\\\":\\\"\\\"},{\\\"title\\\":\\\"23 Proven Growth Hacking Examples You Can Steal to Gain ...\\\",\\\"link\\\":\\\"https://optinmonster.com/growth-hacking-examples/\\\",\\\"desc\\\":\\\"\\\"},{\\\"title\\\":\\\"Growth Hacking Explained: What Is It and How Can It Benefit ...\\\",\\\"link\\\":\\\"https://digitalmarketinginstitute.com/blog/growth-hacking-explained-can-benefit\\\",\\\"desc\\\":\\\"\\\"},{\\\"title\\\":\\\"GrowthHackers - Premier Growth Community - GrowthHackers\\\",\\\"link\\\":\\\"https://growthhackers.com/posts\\\",\\\"desc\\\":\\\"\\\"},{\\\"title\\\":\\\"What is Growth Hacking? What does a Growth Hacker do + ...\\\",\\\"link\\\":\\\"https://growwithward.com/what-is-growth-hacking/\\\",\\\"desc\\\":\\\"\\\"},{\\\"title\\\":\\\"Growth Hacking - Optimizely\\\",\\\"link\\\":\\\"https://www.optimizely.com/optimization-glossary/growth-hacking/\\\",\\\"desc\\\":\\\"\\\"},{\\\"title\\\":\\\"Growth Hacking 101: What It Is and How to Do It | WordStream\\\",\\\"link\\\":\\\"https://www.wordstream.com/blog/ws/2015/06/02/growth-hacking\\\",\\\"desc\\\":\\\"\\\"},{\\\"title\\\":\\\"Hacking Growth: How Today's Fastest-Growing Companies ...\\\",\\\"link\\\":\\\"https://www.amazon.com/Hacking-Growth-Fastest-Growing-Companies-Breakout/dp/045149721X\\\",\\\"desc\\\":\\\"\\\"},{\\\"title\\\":\\\"Growth Hacking: Common Myths and a Process that Actually ...\\\",\\\"link\\\":\\\"https://cxl.com/blog/growth-hacking/\\\",\\\"desc\\\":\\\"\\\"},{\\\"title\\\":\\\"The Growth Hacking Playbook: Your Ultimate List of Growth ...\\\",\\\"link\\\":\\\"https://blog.hubspot.com/sales/growth-hacking-websites\\\",\\\"desc\\\":\\\"\\\"},{\\\"title\\\":\\\"19 Growth Hacking Examples That You Can Copy-Paste ...\\\",\\\"link\\\":\\\"https://www.grow-force.com/growth-hacking-examples/\\\",\\\"desc\\\":\\\"\\\"},{\\\"title\\\":\\\"What is growth hacking? Definition - Omniconvert\\\",\\\"link\\\":\\\"https://www.omniconvert.com/what-is/growth-hacking/\\\",\\\"desc\\\":\\\"\\\"},{\\\"title\\\":\\\"7 Growth Hacking Examples to Inspire Your Own Marketing\\\",\\\"link\\\":\\\"https://mention.com/en/blog/growth-hacking-examples/\\\",\\\"desc\\\":\\\"\\\"},{\\\"title\\\":\\\"What is Growth Hacking, Why it Is Important, Process and ...\\\",\\\"link\\\":\\\"https://kajabi.com/blog/what-is-growth-hacking-why-it-is-important-process-and-examples\\\",\\\"desc\\\":\\\"\\\"},{\\\"title\\\":\\\"Growth Marketing Guide: Advanced Tactics and Hacks\\\",\\\"link\\\":\\\"https://www.julian.com/guide/growth/intro\\\",\\\"desc\\\":\\\"\\\"},{\\\"title\\\":\\\"What Is Growth Hacking? A Definitive Guide | Built In\\\",\\\"link\\\":\\\"https://builtin.com/growth-hacking/growth-hacking-guide\\\",\\\"desc\\\":\\\"\\\"},{\\\"title\\\":\\\"Growth Hacker is the new VP Marketing - andrewchen\\\",\\\"link\\\":\\\"https://andrewchen.co/how-to-be-a-growth-hacker-an-airbnbcraigslist-case-study/\\\",\\\"desc\\\":\\\"\\\"}]}\",\"searchResultHistory\":\"[{}]\"},\"dialogAction\":{\"type\":\"Close\",\"fulfillmentState\":\"Fulfilled\",\"message\":{\"contentType\":\"PlainText\",\"content\":\"A growth hacker is someone who uses creative, low-cost strategies to help businesses acquire and retain customers. Sometimes growth hackers are also called growth marketers, but growth hackers are not simply marketers.\"}}}"
   ]
  },
  {
   "cell_type": "code",
   "execution_count": 6,
   "metadata": {},
   "outputs": [
    {
     "data": {
      "text/plain": [
       "3961"
      ]
     },
     "execution_count": 6,
     "metadata": {},
     "output_type": "execute_result"
    }
   ],
   "source": [
    "len(str(response))"
   ]
  },
  {
   "cell_type": "markdown",
   "metadata": {},
   "source": [
    "# StackOverflow Top Questions"
   ]
  },
  {
   "cell_type": "code",
   "execution_count": 3,
   "metadata": {},
   "outputs": [],
   "source": [
    "# Stackoverflow Top Questions\n",
    "url = 'https://stackoverflow.com/questions?sort=votes'\n",
    "r = requests.get(url)\n",
    "html = BeautifulSoup(r.content, 'html.parser')\n",
    "questions_containers = html.findAll('div', class_=\"question-summary\")\n",
    "question_list = []\n",
    "for question_link in questions_containers:\n",
    "    question = question_link.find('a').get_text(' ')\n",
    "    question_list.append(question)\n",
    "question_list"
   ]
  },
  {
   "cell_type": "code",
   "execution_count": 7,
   "metadata": {},
   "outputs": [],
   "source": []
  },
  {
   "cell_type": "code",
   "execution_count": 11,
   "metadata": {},
   "outputs": [
    {
     "data": {
      "text/plain": [
       "['Why is processing a sorted array faster than processing an unsorted array?',\n",
       " 'How do I undo the most recent local commits in Git?',\n",
       " 'How do I delete a Git branch locally and remotely?',\n",
       " \"What is the difference between 'git pull' and 'git fetch'?\",\n",
       " 'What does the “yield” keyword do?',\n",
       " 'What is the correct JSON content type?',\n",
       " \"How do I undo 'git add' before commit?\",\n",
       " 'What is the “-->” operator in C++?',\n",
       " 'How do I rename a local Git branch?',\n",
       " 'How can I remove a specific item from an array?',\n",
       " 'What and where are the stack and heap?',\n",
       " 'Can comments be used in JSON?',\n",
       " 'How do I check if an element is hidden in jQuery?',\n",
       " 'Why does HTML think “chucknorris” is a color?',\n",
       " 'What does “use strict” do in JavaScript, and what is the reasoning behind it?',\n",
       " 'How do I redirect to another webpage?',\n",
       " 'How do I force “git pull” to overwrite local files?',\n",
       " 'How to modify existing, unpushed commit messages?',\n",
       " 'How do JavaScript closures work?',\n",
       " 'How do I revert a Git repository to a previous commit?',\n",
       " 'How to check whether a string contains a substring in JavaScript?',\n",
       " 'How to remove local (untracked) files from the current Git working tree',\n",
       " 'How do I check out a remote Git branch?',\n",
       " 'var functionName = function() {} vs function functionName() {}',\n",
       " 'Why is subtracting these two times (in 1927) giving a strange result?',\n",
       " 'Is Java “pass-by-reference” or “pass-by-value”?',\n",
       " 'What is the difference between String and string in C#?',\n",
       " 'What does if __name__ == “__main__”: do?',\n",
       " 'Does Python have a ternary conditional operator?',\n",
       " 'How do I remove a property from a JavaScript object?',\n",
       " 'What are metaclasses in Python?',\n",
       " 'What is the difference between “px”, “dip”, “dp” and “sp”?',\n",
       " 'How do I check whether a file exists without exceptions?',\n",
       " 'How to make Git “forget” about a file that was tracked but is now in .gitignore?',\n",
       " 'How do I return the response from an asynchronous call?',\n",
       " 'How do I find all files containing specific text on Linux?',\n",
       " 'Which equals operator (== vs ===) should be used in JavaScript comparisons?',\n",
       " 'PUT vs. POST in REST',\n",
       " 'How do I include a JavaScript file in another JavaScript file?',\n",
       " 'The definitive guide to form-based website authentication [closed]',\n",
       " 'How to disable text selection highlighting',\n",
       " 'How do I merge two dictionaries in a single expression in Python (taking union of dictionaries)?',\n",
       " 'Move the most recent commit(s) to a new branch with Git',\n",
       " 'How to get the source directory of a Bash script from within the script itself?',\n",
       " 'What is the most efficient way to deep clone an object in JavaScript?',\n",
       " 'How to execute a program or call a system command from Python?',\n",
       " 'How do I discard unstaged changes in Git?',\n",
       " 'What is the maximum length of a URL in different browsers?',\n",
       " 'What is a plain English explanation of “Big O” notation?',\n",
       " 'How to resolve merge conflicts in Git repository?']"
      ]
     },
     "execution_count": 11,
     "metadata": {},
     "output_type": "execute_result"
    }
   ],
   "source": [
    "\n"
   ]
  },
  {
   "cell_type": "code",
   "execution_count": null,
   "metadata": {},
   "outputs": [],
   "source": []
  }
 ],
 "metadata": {
  "kernelspec": {
   "display_name": "Python 3",
   "language": "python",
   "name": "python3"
  },
  "language_info": {
   "codemirror_mode": {
    "name": "ipython",
    "version": 3
   },
   "file_extension": ".py",
   "mimetype": "text/x-python",
   "name": "python",
   "nbconvert_exporter": "python",
   "pygments_lexer": "ipython3",
   "version": "3.7.9"
  }
 },
 "nbformat": 4,
 "nbformat_minor": 4
}
